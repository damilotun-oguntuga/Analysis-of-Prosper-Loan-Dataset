{
 "cells": [
  {
   "cell_type": "markdown",
   "metadata": {},
   "source": [
    "# Analysis of Prosper Loan Data \n",
    "### by Oluwadamilotun Kehinde Oguntuga\n",
    "\n"
   ]
  },
  {
   "cell_type": "markdown",
   "metadata": {},
   "source": [
    "## Introduction\n",
    "The Prosper Loan dataset contains one hundred and thirteen thousand records of loans given by Prosper. It contains the details of the borrower information and how the loans are being serviced. It also documents the variables surrounding the borrowing of the loans such as the number of investors, monthly loan payments. The dataset contains a risk score known as the Prosper Score issued by prosper to assess the borrowers based on past loans.\n"
   ]
  },
  {
   "cell_type": "markdown",
   "metadata": {},
   "source": [
    "\n",
    "## Preliminary Wrangling\n"
   ]
  },
  {
   "cell_type": "code",
   "execution_count": 1,
   "metadata": {},
   "outputs": [],
   "source": [
    "# import all necessary packages and set plots to be embedded inline\n",
    "import numpy as np\n",
    "import pandas as pd\n",
    "import matplotlib.pyplot as plt\n",
    "import seaborn as sb\n",
    "\n",
    "%matplotlib inline"
   ]
  },
  {
   "cell_type": "code",
   "execution_count": 2,
   "metadata": {},
   "outputs": [],
   "source": [
    "# Load in the dataset\n",
    "prosper = pd.read_csv('prosperLoanData.csv')"
   ]
  },
  {
   "cell_type": "code",
   "execution_count": 3,
   "metadata": {},
   "outputs": [
    {
     "data": {
      "text/html": [
       "<div>\n",
       "<style scoped>\n",
       "    .dataframe tbody tr th:only-of-type {\n",
       "        vertical-align: middle;\n",
       "    }\n",
       "\n",
       "    .dataframe tbody tr th {\n",
       "        vertical-align: top;\n",
       "    }\n",
       "\n",
       "    .dataframe thead th {\n",
       "        text-align: right;\n",
       "    }\n",
       "</style>\n",
       "<table border=\"1\" class=\"dataframe\">\n",
       "  <thead>\n",
       "    <tr style=\"text-align: right;\">\n",
       "      <th></th>\n",
       "      <th>ListingKey</th>\n",
       "      <th>ListingNumber</th>\n",
       "      <th>ListingCreationDate</th>\n",
       "      <th>CreditGrade</th>\n",
       "      <th>Term</th>\n",
       "      <th>LoanStatus</th>\n",
       "      <th>ClosedDate</th>\n",
       "      <th>BorrowerAPR</th>\n",
       "      <th>BorrowerRate</th>\n",
       "      <th>LenderYield</th>\n",
       "      <th>...</th>\n",
       "      <th>LP_ServiceFees</th>\n",
       "      <th>LP_CollectionFees</th>\n",
       "      <th>LP_GrossPrincipalLoss</th>\n",
       "      <th>LP_NetPrincipalLoss</th>\n",
       "      <th>LP_NonPrincipalRecoverypayments</th>\n",
       "      <th>PercentFunded</th>\n",
       "      <th>Recommendations</th>\n",
       "      <th>InvestmentFromFriendsCount</th>\n",
       "      <th>InvestmentFromFriendsAmount</th>\n",
       "      <th>Investors</th>\n",
       "    </tr>\n",
       "  </thead>\n",
       "  <tbody>\n",
       "    <tr>\n",
       "      <th>0</th>\n",
       "      <td>1021339766868145413AB3B</td>\n",
       "      <td>193129</td>\n",
       "      <td>2007-08-26 19:09:29.263000000</td>\n",
       "      <td>C</td>\n",
       "      <td>36</td>\n",
       "      <td>Completed</td>\n",
       "      <td>2009-08-14 00:00:00</td>\n",
       "      <td>0.16516</td>\n",
       "      <td>0.1580</td>\n",
       "      <td>0.1380</td>\n",
       "      <td>...</td>\n",
       "      <td>-133.18</td>\n",
       "      <td>0.0</td>\n",
       "      <td>0.0</td>\n",
       "      <td>0.0</td>\n",
       "      <td>0.0</td>\n",
       "      <td>1.0</td>\n",
       "      <td>0</td>\n",
       "      <td>0</td>\n",
       "      <td>0.0</td>\n",
       "      <td>258</td>\n",
       "    </tr>\n",
       "    <tr>\n",
       "      <th>1</th>\n",
       "      <td>10273602499503308B223C1</td>\n",
       "      <td>1209647</td>\n",
       "      <td>2014-02-27 08:28:07.900000000</td>\n",
       "      <td>NaN</td>\n",
       "      <td>36</td>\n",
       "      <td>Current</td>\n",
       "      <td>NaN</td>\n",
       "      <td>0.12016</td>\n",
       "      <td>0.0920</td>\n",
       "      <td>0.0820</td>\n",
       "      <td>...</td>\n",
       "      <td>0.00</td>\n",
       "      <td>0.0</td>\n",
       "      <td>0.0</td>\n",
       "      <td>0.0</td>\n",
       "      <td>0.0</td>\n",
       "      <td>1.0</td>\n",
       "      <td>0</td>\n",
       "      <td>0</td>\n",
       "      <td>0.0</td>\n",
       "      <td>1</td>\n",
       "    </tr>\n",
       "    <tr>\n",
       "      <th>2</th>\n",
       "      <td>0EE9337825851032864889A</td>\n",
       "      <td>81716</td>\n",
       "      <td>2007-01-05 15:00:47.090000000</td>\n",
       "      <td>HR</td>\n",
       "      <td>36</td>\n",
       "      <td>Completed</td>\n",
       "      <td>2009-12-17 00:00:00</td>\n",
       "      <td>0.28269</td>\n",
       "      <td>0.2750</td>\n",
       "      <td>0.2400</td>\n",
       "      <td>...</td>\n",
       "      <td>-24.20</td>\n",
       "      <td>0.0</td>\n",
       "      <td>0.0</td>\n",
       "      <td>0.0</td>\n",
       "      <td>0.0</td>\n",
       "      <td>1.0</td>\n",
       "      <td>0</td>\n",
       "      <td>0</td>\n",
       "      <td>0.0</td>\n",
       "      <td>41</td>\n",
       "    </tr>\n",
       "    <tr>\n",
       "      <th>3</th>\n",
       "      <td>0EF5356002482715299901A</td>\n",
       "      <td>658116</td>\n",
       "      <td>2012-10-22 11:02:35.010000000</td>\n",
       "      <td>NaN</td>\n",
       "      <td>36</td>\n",
       "      <td>Current</td>\n",
       "      <td>NaN</td>\n",
       "      <td>0.12528</td>\n",
       "      <td>0.0974</td>\n",
       "      <td>0.0874</td>\n",
       "      <td>...</td>\n",
       "      <td>-108.01</td>\n",
       "      <td>0.0</td>\n",
       "      <td>0.0</td>\n",
       "      <td>0.0</td>\n",
       "      <td>0.0</td>\n",
       "      <td>1.0</td>\n",
       "      <td>0</td>\n",
       "      <td>0</td>\n",
       "      <td>0.0</td>\n",
       "      <td>158</td>\n",
       "    </tr>\n",
       "    <tr>\n",
       "      <th>4</th>\n",
       "      <td>0F023589499656230C5E3E2</td>\n",
       "      <td>909464</td>\n",
       "      <td>2013-09-14 18:38:39.097000000</td>\n",
       "      <td>NaN</td>\n",
       "      <td>36</td>\n",
       "      <td>Current</td>\n",
       "      <td>NaN</td>\n",
       "      <td>0.24614</td>\n",
       "      <td>0.2085</td>\n",
       "      <td>0.1985</td>\n",
       "      <td>...</td>\n",
       "      <td>-60.27</td>\n",
       "      <td>0.0</td>\n",
       "      <td>0.0</td>\n",
       "      <td>0.0</td>\n",
       "      <td>0.0</td>\n",
       "      <td>1.0</td>\n",
       "      <td>0</td>\n",
       "      <td>0</td>\n",
       "      <td>0.0</td>\n",
       "      <td>20</td>\n",
       "    </tr>\n",
       "  </tbody>\n",
       "</table>\n",
       "<p>5 rows × 81 columns</p>\n",
       "</div>"
      ],
      "text/plain": [
       "                ListingKey  ListingNumber            ListingCreationDate  \\\n",
       "0  1021339766868145413AB3B         193129  2007-08-26 19:09:29.263000000   \n",
       "1  10273602499503308B223C1        1209647  2014-02-27 08:28:07.900000000   \n",
       "2  0EE9337825851032864889A          81716  2007-01-05 15:00:47.090000000   \n",
       "3  0EF5356002482715299901A         658116  2012-10-22 11:02:35.010000000   \n",
       "4  0F023589499656230C5E3E2         909464  2013-09-14 18:38:39.097000000   \n",
       "\n",
       "  CreditGrade  Term LoanStatus           ClosedDate  BorrowerAPR  \\\n",
       "0           C    36  Completed  2009-08-14 00:00:00      0.16516   \n",
       "1         NaN    36    Current                  NaN      0.12016   \n",
       "2          HR    36  Completed  2009-12-17 00:00:00      0.28269   \n",
       "3         NaN    36    Current                  NaN      0.12528   \n",
       "4         NaN    36    Current                  NaN      0.24614   \n",
       "\n",
       "   BorrowerRate  LenderYield  ...  LP_ServiceFees  LP_CollectionFees  \\\n",
       "0        0.1580       0.1380  ...         -133.18                0.0   \n",
       "1        0.0920       0.0820  ...            0.00                0.0   \n",
       "2        0.2750       0.2400  ...          -24.20                0.0   \n",
       "3        0.0974       0.0874  ...         -108.01                0.0   \n",
       "4        0.2085       0.1985  ...          -60.27                0.0   \n",
       "\n",
       "   LP_GrossPrincipalLoss  LP_NetPrincipalLoss LP_NonPrincipalRecoverypayments  \\\n",
       "0                    0.0                  0.0                             0.0   \n",
       "1                    0.0                  0.0                             0.0   \n",
       "2                    0.0                  0.0                             0.0   \n",
       "3                    0.0                  0.0                             0.0   \n",
       "4                    0.0                  0.0                             0.0   \n",
       "\n",
       "   PercentFunded  Recommendations InvestmentFromFriendsCount  \\\n",
       "0            1.0                0                          0   \n",
       "1            1.0                0                          0   \n",
       "2            1.0                0                          0   \n",
       "3            1.0                0                          0   \n",
       "4            1.0                0                          0   \n",
       "\n",
       "  InvestmentFromFriendsAmount Investors  \n",
       "0                         0.0       258  \n",
       "1                         0.0         1  \n",
       "2                         0.0        41  \n",
       "3                         0.0       158  \n",
       "4                         0.0        20  \n",
       "\n",
       "[5 rows x 81 columns]"
      ]
     },
     "execution_count": 3,
     "metadata": {},
     "output_type": "execute_result"
    }
   ],
   "source": [
    "# Get the first five rows of the dataset\n",
    "prosper.head()"
   ]
  },
  {
   "cell_type": "code",
   "execution_count": 4,
   "metadata": {},
   "outputs": [
    {
     "data": {
      "text/plain": [
       "(113937, 81)"
      ]
     },
     "execution_count": 4,
     "metadata": {},
     "output_type": "execute_result"
    }
   ],
   "source": [
    "# Get the shape of the dataset\n",
    "prosper.shape"
   ]
  },
  {
   "cell_type": "code",
   "execution_count": 5,
   "metadata": {},
   "outputs": [
    {
     "name": "stdout",
     "output_type": "stream",
     "text": [
      "<class 'pandas.core.frame.DataFrame'>\n",
      "RangeIndex: 113937 entries, 0 to 113936\n",
      "Data columns (total 81 columns):\n",
      " #   Column                               Non-Null Count   Dtype  \n",
      "---  ------                               --------------   -----  \n",
      " 0   ListingKey                           113937 non-null  object \n",
      " 1   ListingNumber                        113937 non-null  int64  \n",
      " 2   ListingCreationDate                  113937 non-null  object \n",
      " 3   CreditGrade                          28953 non-null   object \n",
      " 4   Term                                 113937 non-null  int64  \n",
      " 5   LoanStatus                           113937 non-null  object \n",
      " 6   ClosedDate                           55089 non-null   object \n",
      " 7   BorrowerAPR                          113912 non-null  float64\n",
      " 8   BorrowerRate                         113937 non-null  float64\n",
      " 9   LenderYield                          113937 non-null  float64\n",
      " 10  EstimatedEffectiveYield              84853 non-null   float64\n",
      " 11  EstimatedLoss                        84853 non-null   float64\n",
      " 12  EstimatedReturn                      84853 non-null   float64\n",
      " 13  ProsperRating (numeric)              84853 non-null   float64\n",
      " 14  ProsperRating (Alpha)                84853 non-null   object \n",
      " 15  ProsperScore                         84853 non-null   float64\n",
      " 16  ListingCategory (numeric)            113937 non-null  int64  \n",
      " 17  BorrowerState                        108422 non-null  object \n",
      " 18  Occupation                           110349 non-null  object \n",
      " 19  EmploymentStatus                     111682 non-null  object \n",
      " 20  EmploymentStatusDuration             106312 non-null  float64\n",
      " 21  IsBorrowerHomeowner                  113937 non-null  bool   \n",
      " 22  CurrentlyInGroup                     113937 non-null  bool   \n",
      " 23  GroupKey                             13341 non-null   object \n",
      " 24  DateCreditPulled                     113937 non-null  object \n",
      " 25  CreditScoreRangeLower                113346 non-null  float64\n",
      " 26  CreditScoreRangeUpper                113346 non-null  float64\n",
      " 27  FirstRecordedCreditLine              113240 non-null  object \n",
      " 28  CurrentCreditLines                   106333 non-null  float64\n",
      " 29  OpenCreditLines                      106333 non-null  float64\n",
      " 30  TotalCreditLinespast7years           113240 non-null  float64\n",
      " 31  OpenRevolvingAccounts                113937 non-null  int64  \n",
      " 32  OpenRevolvingMonthlyPayment          113937 non-null  float64\n",
      " 33  InquiriesLast6Months                 113240 non-null  float64\n",
      " 34  TotalInquiries                       112778 non-null  float64\n",
      " 35  CurrentDelinquencies                 113240 non-null  float64\n",
      " 36  AmountDelinquent                     106315 non-null  float64\n",
      " 37  DelinquenciesLast7Years              112947 non-null  float64\n",
      " 38  PublicRecordsLast10Years             113240 non-null  float64\n",
      " 39  PublicRecordsLast12Months            106333 non-null  float64\n",
      " 40  RevolvingCreditBalance               106333 non-null  float64\n",
      " 41  BankcardUtilization                  106333 non-null  float64\n",
      " 42  AvailableBankcardCredit              106393 non-null  float64\n",
      " 43  TotalTrades                          106393 non-null  float64\n",
      " 44  TradesNeverDelinquent (percentage)   106393 non-null  float64\n",
      " 45  TradesOpenedLast6Months              106393 non-null  float64\n",
      " 46  DebtToIncomeRatio                    105383 non-null  float64\n",
      " 47  IncomeRange                          113937 non-null  object \n",
      " 48  IncomeVerifiable                     113937 non-null  bool   \n",
      " 49  StatedMonthlyIncome                  113937 non-null  float64\n",
      " 50  LoanKey                              113937 non-null  object \n",
      " 51  TotalProsperLoans                    22085 non-null   float64\n",
      " 52  TotalProsperPaymentsBilled           22085 non-null   float64\n",
      " 53  OnTimeProsperPayments                22085 non-null   float64\n",
      " 54  ProsperPaymentsLessThanOneMonthLate  22085 non-null   float64\n",
      " 55  ProsperPaymentsOneMonthPlusLate      22085 non-null   float64\n",
      " 56  ProsperPrincipalBorrowed             22085 non-null   float64\n",
      " 57  ProsperPrincipalOutstanding          22085 non-null   float64\n",
      " 58  ScorexChangeAtTimeOfListing          18928 non-null   float64\n",
      " 59  LoanCurrentDaysDelinquent            113937 non-null  int64  \n",
      " 60  LoanFirstDefaultedCycleNumber        16952 non-null   float64\n",
      " 61  LoanMonthsSinceOrigination           113937 non-null  int64  \n",
      " 62  LoanNumber                           113937 non-null  int64  \n",
      " 63  LoanOriginalAmount                   113937 non-null  int64  \n",
      " 64  LoanOriginationDate                  113937 non-null  object \n",
      " 65  LoanOriginationQuarter               113937 non-null  object \n",
      " 66  MemberKey                            113937 non-null  object \n",
      " 67  MonthlyLoanPayment                   113937 non-null  float64\n",
      " 68  LP_CustomerPayments                  113937 non-null  float64\n",
      " 69  LP_CustomerPrincipalPayments         113937 non-null  float64\n",
      " 70  LP_InterestandFees                   113937 non-null  float64\n",
      " 71  LP_ServiceFees                       113937 non-null  float64\n",
      " 72  LP_CollectionFees                    113937 non-null  float64\n",
      " 73  LP_GrossPrincipalLoss                113937 non-null  float64\n",
      " 74  LP_NetPrincipalLoss                  113937 non-null  float64\n",
      " 75  LP_NonPrincipalRecoverypayments      113937 non-null  float64\n",
      " 76  PercentFunded                        113937 non-null  float64\n",
      " 77  Recommendations                      113937 non-null  int64  \n",
      " 78  InvestmentFromFriendsCount           113937 non-null  int64  \n",
      " 79  InvestmentFromFriendsAmount          113937 non-null  float64\n",
      " 80  Investors                            113937 non-null  int64  \n",
      "dtypes: bool(3), float64(50), int64(11), object(17)\n",
      "memory usage: 68.1+ MB\n"
     ]
    }
   ],
   "source": [
    "# Get the info of the dataset\n",
    "prosper.info()"
   ]
  },
  {
   "cell_type": "markdown",
   "metadata": {},
   "source": [
    "### What is the structure of your dataset?\n",
    "\n",
    "> The dataset contains 113,937 loans(as rows) and 81 features of each loan (as columns). Of the 81 features, 61 are of the numeric datatypes and this indicates that the dataset is largely made of features that describe numeric variables. \n",
    "\n",
    "### What is/are the main feature(s) of interest in your dataset?\n",
    "\n",
    "> What are the factors that most strongly affect the scheduled monthly loan payments?\n",
    "\n",
    "\n",
    "### What features in the dataset do you think will help support your investigation into your feature(s) of interest?\n",
    "\n",
    "1. Term\n",
    "2. LoanStatus\n",
    "3. BorrowerAPR\n",
    "4. BorrowerRate\n",
    "6. LenderYield\n",
    "7. ProsperScore\n",
    "8. Occupation\n",
    "9. EmploymentStatus\n",
    "10. EmploymentStatusDuration\n",
    "11. DebtToIncomeRatio\n",
    "12. MonthlyLoanPayment\n",
    "13. Recommedations\n",
    "14. Investors"
   ]
  },
  {
   "cell_type": "markdown",
   "metadata": {},
   "source": [
    "## Data Wrangling"
   ]
  },
  {
   "cell_type": "code",
   "execution_count": 6,
   "metadata": {},
   "outputs": [
    {
     "data": {
      "text/html": [
       "<div>\n",
       "<style scoped>\n",
       "    .dataframe tbody tr th:only-of-type {\n",
       "        vertical-align: middle;\n",
       "    }\n",
       "\n",
       "    .dataframe tbody tr th {\n",
       "        vertical-align: top;\n",
       "    }\n",
       "\n",
       "    .dataframe thead th {\n",
       "        text-align: right;\n",
       "    }\n",
       "</style>\n",
       "<table border=\"1\" class=\"dataframe\">\n",
       "  <thead>\n",
       "    <tr style=\"text-align: right;\">\n",
       "      <th></th>\n",
       "      <th>ListingKey</th>\n",
       "      <th>ListingNumber</th>\n",
       "      <th>ListingCreationDate</th>\n",
       "      <th>CreditGrade</th>\n",
       "      <th>Term</th>\n",
       "      <th>LoanStatus</th>\n",
       "      <th>ClosedDate</th>\n",
       "      <th>BorrowerAPR</th>\n",
       "      <th>BorrowerRate</th>\n",
       "      <th>LenderYield</th>\n",
       "      <th>...</th>\n",
       "      <th>LP_ServiceFees</th>\n",
       "      <th>LP_CollectionFees</th>\n",
       "      <th>LP_GrossPrincipalLoss</th>\n",
       "      <th>LP_NetPrincipalLoss</th>\n",
       "      <th>LP_NonPrincipalRecoverypayments</th>\n",
       "      <th>PercentFunded</th>\n",
       "      <th>Recommendations</th>\n",
       "      <th>InvestmentFromFriendsCount</th>\n",
       "      <th>InvestmentFromFriendsAmount</th>\n",
       "      <th>Investors</th>\n",
       "    </tr>\n",
       "  </thead>\n",
       "  <tbody>\n",
       "    <tr>\n",
       "      <th>107508</th>\n",
       "      <td>150435000186547329D7C4D</td>\n",
       "      <td>483144</td>\n",
       "      <td>2010-11-07 12:27:21.233000000</td>\n",
       "      <td>NaN</td>\n",
       "      <td>36</td>\n",
       "      <td>Completed</td>\n",
       "      <td>2011-06-03 00:00:00</td>\n",
       "      <td>0.31053</td>\n",
       "      <td>0.2750</td>\n",
       "      <td>0.2650</td>\n",
       "      <td>...</td>\n",
       "      <td>-17.82</td>\n",
       "      <td>0.0000</td>\n",
       "      <td>0.00</td>\n",
       "      <td>0.00</td>\n",
       "      <td>0.0</td>\n",
       "      <td>1.0</td>\n",
       "      <td>0</td>\n",
       "      <td>0</td>\n",
       "      <td>0.0</td>\n",
       "      <td>81</td>\n",
       "    </tr>\n",
       "    <tr>\n",
       "      <th>91000</th>\n",
       "      <td>6C3E33870080013377B1179</td>\n",
       "      <td>119750</td>\n",
       "      <td>2007-04-05 21:23:35.163000000</td>\n",
       "      <td>C</td>\n",
       "      <td>36</td>\n",
       "      <td>Completed</td>\n",
       "      <td>2007-06-28 00:00:00</td>\n",
       "      <td>0.15412</td>\n",
       "      <td>0.1470</td>\n",
       "      <td>0.1270</td>\n",
       "      <td>...</td>\n",
       "      <td>-9.44</td>\n",
       "      <td>0.0000</td>\n",
       "      <td>0.00</td>\n",
       "      <td>0.00</td>\n",
       "      <td>0.0</td>\n",
       "      <td>1.0</td>\n",
       "      <td>0</td>\n",
       "      <td>0</td>\n",
       "      <td>0.0</td>\n",
       "      <td>227</td>\n",
       "    </tr>\n",
       "    <tr>\n",
       "      <th>57419</th>\n",
       "      <td>221A354403434274648E1B3</td>\n",
       "      <td>578641</td>\n",
       "      <td>2012-04-14 07:17:25.360000000</td>\n",
       "      <td>NaN</td>\n",
       "      <td>60</td>\n",
       "      <td>Chargedoff</td>\n",
       "      <td>2014-01-17 00:00:00</td>\n",
       "      <td>0.35838</td>\n",
       "      <td>0.3304</td>\n",
       "      <td>0.3204</td>\n",
       "      <td>...</td>\n",
       "      <td>-50.35</td>\n",
       "      <td>0.0000</td>\n",
       "      <td>3487.31</td>\n",
       "      <td>3487.31</td>\n",
       "      <td>0.0</td>\n",
       "      <td>1.0</td>\n",
       "      <td>0</td>\n",
       "      <td>0</td>\n",
       "      <td>0.0</td>\n",
       "      <td>8</td>\n",
       "    </tr>\n",
       "    <tr>\n",
       "      <th>5282</th>\n",
       "      <td>955C3471522681505FCFF5B</td>\n",
       "      <td>439224</td>\n",
       "      <td>2009-12-20 06:13:49.930000000</td>\n",
       "      <td>NaN</td>\n",
       "      <td>36</td>\n",
       "      <td>Completed</td>\n",
       "      <td>2012-12-06 00:00:00</td>\n",
       "      <td>0.10436</td>\n",
       "      <td>0.0835</td>\n",
       "      <td>0.0735</td>\n",
       "      <td>...</td>\n",
       "      <td>-63.78</td>\n",
       "      <td>0.0000</td>\n",
       "      <td>0.00</td>\n",
       "      <td>0.00</td>\n",
       "      <td>0.0</td>\n",
       "      <td>1.0</td>\n",
       "      <td>0</td>\n",
       "      <td>0</td>\n",
       "      <td>0.0</td>\n",
       "      <td>143</td>\n",
       "    </tr>\n",
       "    <tr>\n",
       "      <th>87960</th>\n",
       "      <td>5FFA3426767201802ECBC3B</td>\n",
       "      <td>371246</td>\n",
       "      <td>2008-07-21 22:11:38.360000000</td>\n",
       "      <td>B</td>\n",
       "      <td>36</td>\n",
       "      <td>Completed</td>\n",
       "      <td>2011-07-26 00:00:00</td>\n",
       "      <td>0.16941</td>\n",
       "      <td>0.1550</td>\n",
       "      <td>0.1450</td>\n",
       "      <td>...</td>\n",
       "      <td>-107.49</td>\n",
       "      <td>0.0000</td>\n",
       "      <td>0.00</td>\n",
       "      <td>0.00</td>\n",
       "      <td>0.0</td>\n",
       "      <td>1.0</td>\n",
       "      <td>0</td>\n",
       "      <td>0</td>\n",
       "      <td>0.0</td>\n",
       "      <td>180</td>\n",
       "    </tr>\n",
       "    <tr>\n",
       "      <th>90077</th>\n",
       "      <td>BFA5356780061672403C680</td>\n",
       "      <td>702940</td>\n",
       "      <td>2013-01-20 13:45:59.553000000</td>\n",
       "      <td>NaN</td>\n",
       "      <td>36</td>\n",
       "      <td>Completed</td>\n",
       "      <td>2013-12-03 00:00:00</td>\n",
       "      <td>0.15833</td>\n",
       "      <td>0.1299</td>\n",
       "      <td>0.1199</td>\n",
       "      <td>...</td>\n",
       "      <td>-34.00</td>\n",
       "      <td>0.0000</td>\n",
       "      <td>0.00</td>\n",
       "      <td>0.00</td>\n",
       "      <td>0.0</td>\n",
       "      <td>1.0</td>\n",
       "      <td>0</td>\n",
       "      <td>0</td>\n",
       "      <td>0.0</td>\n",
       "      <td>89</td>\n",
       "    </tr>\n",
       "    <tr>\n",
       "      <th>52162</th>\n",
       "      <td>1E203595155288569E76653</td>\n",
       "      <td>992464</td>\n",
       "      <td>2013-11-13 11:35:52.903000000</td>\n",
       "      <td>NaN</td>\n",
       "      <td>36</td>\n",
       "      <td>Current</td>\n",
       "      <td>NaN</td>\n",
       "      <td>0.32436</td>\n",
       "      <td>0.2849</td>\n",
       "      <td>0.2749</td>\n",
       "      <td>...</td>\n",
       "      <td>-9.90</td>\n",
       "      <td>0.0000</td>\n",
       "      <td>0.00</td>\n",
       "      <td>0.00</td>\n",
       "      <td>0.0</td>\n",
       "      <td>1.0</td>\n",
       "      <td>0</td>\n",
       "      <td>0</td>\n",
       "      <td>0.0</td>\n",
       "      <td>35</td>\n",
       "    </tr>\n",
       "    <tr>\n",
       "      <th>96293</th>\n",
       "      <td>F3E63598592616746CEE45A</td>\n",
       "      <td>1102758</td>\n",
       "      <td>2013-12-22 08:56:23.153000000</td>\n",
       "      <td>NaN</td>\n",
       "      <td>36</td>\n",
       "      <td>Current</td>\n",
       "      <td>NaN</td>\n",
       "      <td>0.22773</td>\n",
       "      <td>0.1905</td>\n",
       "      <td>0.1805</td>\n",
       "      <td>...</td>\n",
       "      <td>-5.05</td>\n",
       "      <td>0.0000</td>\n",
       "      <td>0.00</td>\n",
       "      <td>0.00</td>\n",
       "      <td>0.0</td>\n",
       "      <td>1.0</td>\n",
       "      <td>0</td>\n",
       "      <td>0</td>\n",
       "      <td>0.0</td>\n",
       "      <td>1</td>\n",
       "    </tr>\n",
       "    <tr>\n",
       "      <th>50760</th>\n",
       "      <td>CDFB3588980067860F9C7F3</td>\n",
       "      <td>893227</td>\n",
       "      <td>2013-09-12 16:56:42.890000000</td>\n",
       "      <td>NaN</td>\n",
       "      <td>36</td>\n",
       "      <td>Current</td>\n",
       "      <td>NaN</td>\n",
       "      <td>0.20462</td>\n",
       "      <td>0.1679</td>\n",
       "      <td>0.1579</td>\n",
       "      <td>...</td>\n",
       "      <td>-60.10</td>\n",
       "      <td>0.0000</td>\n",
       "      <td>0.00</td>\n",
       "      <td>0.00</td>\n",
       "      <td>0.0</td>\n",
       "      <td>1.0</td>\n",
       "      <td>0</td>\n",
       "      <td>0</td>\n",
       "      <td>0.0</td>\n",
       "      <td>1</td>\n",
       "    </tr>\n",
       "    <tr>\n",
       "      <th>22197</th>\n",
       "      <td>56943400226787301FE0E1F</td>\n",
       "      <td>203513</td>\n",
       "      <td>2007-09-18 17:58:04.363000000</td>\n",
       "      <td>B</td>\n",
       "      <td>36</td>\n",
       "      <td>Chargedoff</td>\n",
       "      <td>2009-06-03 00:00:00</td>\n",
       "      <td>0.13433</td>\n",
       "      <td>0.1273</td>\n",
       "      <td>0.1173</td>\n",
       "      <td>...</td>\n",
       "      <td>-73.07</td>\n",
       "      <td>0.0000</td>\n",
       "      <td>4405.82</td>\n",
       "      <td>4405.82</td>\n",
       "      <td>0.0</td>\n",
       "      <td>1.0</td>\n",
       "      <td>0</td>\n",
       "      <td>0</td>\n",
       "      <td>0.0</td>\n",
       "      <td>128</td>\n",
       "    </tr>\n",
       "    <tr>\n",
       "      <th>81942</th>\n",
       "      <td>D0D833956293527397A8394</td>\n",
       "      <td>178254</td>\n",
       "      <td>2007-07-29 18:14:10.047000000</td>\n",
       "      <td>C</td>\n",
       "      <td>36</td>\n",
       "      <td>Completed</td>\n",
       "      <td>2009-03-18 00:00:00</td>\n",
       "      <td>0.16707</td>\n",
       "      <td>0.1599</td>\n",
       "      <td>0.1399</td>\n",
       "      <td>...</td>\n",
       "      <td>-102.01</td>\n",
       "      <td>0.0000</td>\n",
       "      <td>0.00</td>\n",
       "      <td>0.00</td>\n",
       "      <td>0.0</td>\n",
       "      <td>1.0</td>\n",
       "      <td>0</td>\n",
       "      <td>0</td>\n",
       "      <td>0.0</td>\n",
       "      <td>311</td>\n",
       "    </tr>\n",
       "    <tr>\n",
       "      <th>21160</th>\n",
       "      <td>7C55338927798587095C74C</td>\n",
       "      <td>136473</td>\n",
       "      <td>2007-05-12 10:58:51.497000000</td>\n",
       "      <td>D</td>\n",
       "      <td>36</td>\n",
       "      <td>Chargedoff</td>\n",
       "      <td>2008-08-20 00:00:00</td>\n",
       "      <td>0.29776</td>\n",
       "      <td>0.2900</td>\n",
       "      <td>0.2800</td>\n",
       "      <td>...</td>\n",
       "      <td>-8.20</td>\n",
       "      <td>-101.5625</td>\n",
       "      <td>2195.92</td>\n",
       "      <td>2169.88</td>\n",
       "      <td>214.3</td>\n",
       "      <td>1.0</td>\n",
       "      <td>0</td>\n",
       "      <td>0</td>\n",
       "      <td>0.0</td>\n",
       "      <td>7</td>\n",
       "    </tr>\n",
       "    <tr>\n",
       "      <th>21864</th>\n",
       "      <td>6166360228886591949CD0A</td>\n",
       "      <td>1224585</td>\n",
       "      <td>2014-02-20 17:26:43.883000000</td>\n",
       "      <td>NaN</td>\n",
       "      <td>36</td>\n",
       "      <td>Current</td>\n",
       "      <td>NaN</td>\n",
       "      <td>0.12727</td>\n",
       "      <td>0.0990</td>\n",
       "      <td>0.0890</td>\n",
       "      <td>...</td>\n",
       "      <td>0.00</td>\n",
       "      <td>0.0000</td>\n",
       "      <td>0.00</td>\n",
       "      <td>0.00</td>\n",
       "      <td>0.0</td>\n",
       "      <td>1.0</td>\n",
       "      <td>0</td>\n",
       "      <td>0</td>\n",
       "      <td>0.0</td>\n",
       "      <td>103</td>\n",
       "    </tr>\n",
       "    <tr>\n",
       "      <th>31563</th>\n",
       "      <td>C26435969938115540CCDA4</td>\n",
       "      <td>1027015</td>\n",
       "      <td>2013-12-05 06:13:43.420000000</td>\n",
       "      <td>NaN</td>\n",
       "      <td>36</td>\n",
       "      <td>Current</td>\n",
       "      <td>NaN</td>\n",
       "      <td>0.09030</td>\n",
       "      <td>0.0769</td>\n",
       "      <td>0.0669</td>\n",
       "      <td>...</td>\n",
       "      <td>-13.42</td>\n",
       "      <td>0.0000</td>\n",
       "      <td>0.00</td>\n",
       "      <td>0.00</td>\n",
       "      <td>0.0</td>\n",
       "      <td>1.0</td>\n",
       "      <td>0</td>\n",
       "      <td>0</td>\n",
       "      <td>0.0</td>\n",
       "      <td>148</td>\n",
       "    </tr>\n",
       "    <tr>\n",
       "      <th>34681</th>\n",
       "      <td>EB8634846515251651DD378</td>\n",
       "      <td>459846</td>\n",
       "      <td>2010-05-24 08:46:15.810000000</td>\n",
       "      <td>NaN</td>\n",
       "      <td>36</td>\n",
       "      <td>Chargedoff</td>\n",
       "      <td>2011-01-14 00:00:00</td>\n",
       "      <td>0.12309</td>\n",
       "      <td>0.1020</td>\n",
       "      <td>0.0920</td>\n",
       "      <td>...</td>\n",
       "      <td>-20.63</td>\n",
       "      <td>0.0000</td>\n",
       "      <td>11901.46</td>\n",
       "      <td>11901.46</td>\n",
       "      <td>0.0</td>\n",
       "      <td>1.0</td>\n",
       "      <td>0</td>\n",
       "      <td>0</td>\n",
       "      <td>0.0</td>\n",
       "      <td>367</td>\n",
       "    </tr>\n",
       "    <tr>\n",
       "      <th>606</th>\n",
       "      <td>3C6C357164641405815A03A</td>\n",
       "      <td>723386</td>\n",
       "      <td>2013-03-07 08:14:55.623000000</td>\n",
       "      <td>NaN</td>\n",
       "      <td>36</td>\n",
       "      <td>Current</td>\n",
       "      <td>NaN</td>\n",
       "      <td>0.09837</td>\n",
       "      <td>0.0849</td>\n",
       "      <td>0.0749</td>\n",
       "      <td>...</td>\n",
       "      <td>-23.44</td>\n",
       "      <td>0.0000</td>\n",
       "      <td>0.00</td>\n",
       "      <td>0.00</td>\n",
       "      <td>0.0</td>\n",
       "      <td>1.0</td>\n",
       "      <td>0</td>\n",
       "      <td>0</td>\n",
       "      <td>0.0</td>\n",
       "      <td>90</td>\n",
       "    </tr>\n",
       "    <tr>\n",
       "      <th>96748</th>\n",
       "      <td>2A0E3537392610173A8F370</td>\n",
       "      <td>550558</td>\n",
       "      <td>2012-01-10 15:49:09.227000000</td>\n",
       "      <td>NaN</td>\n",
       "      <td>60</td>\n",
       "      <td>Chargedoff</td>\n",
       "      <td>2013-12-24 00:00:00</td>\n",
       "      <td>0.20358</td>\n",
       "      <td>0.1845</td>\n",
       "      <td>0.1745</td>\n",
       "      <td>...</td>\n",
       "      <td>-183.02</td>\n",
       "      <td>-130.9000</td>\n",
       "      <td>12223.40</td>\n",
       "      <td>12223.40</td>\n",
       "      <td>0.0</td>\n",
       "      <td>1.0</td>\n",
       "      <td>0</td>\n",
       "      <td>0</td>\n",
       "      <td>0.0</td>\n",
       "      <td>247</td>\n",
       "    </tr>\n",
       "    <tr>\n",
       "      <th>16243</th>\n",
       "      <td>A01C3579108354815512133</td>\n",
       "      <td>785200</td>\n",
       "      <td>2013-05-21 13:03:43.580000000</td>\n",
       "      <td>NaN</td>\n",
       "      <td>60</td>\n",
       "      <td>Current</td>\n",
       "      <td>NaN</td>\n",
       "      <td>0.20593</td>\n",
       "      <td>0.1819</td>\n",
       "      <td>0.1719</td>\n",
       "      <td>...</td>\n",
       "      <td>-129.26</td>\n",
       "      <td>0.0000</td>\n",
       "      <td>0.00</td>\n",
       "      <td>0.00</td>\n",
       "      <td>0.0</td>\n",
       "      <td>1.0</td>\n",
       "      <td>0</td>\n",
       "      <td>0</td>\n",
       "      <td>0.0</td>\n",
       "      <td>1</td>\n",
       "    </tr>\n",
       "    <tr>\n",
       "      <th>59200</th>\n",
       "      <td>255B3489887124848667DC4</td>\n",
       "      <td>467469</td>\n",
       "      <td>2010-07-19 12:09:12.860000000</td>\n",
       "      <td>NaN</td>\n",
       "      <td>36</td>\n",
       "      <td>Completed</td>\n",
       "      <td>2013-05-01 00:00:00</td>\n",
       "      <td>0.11296</td>\n",
       "      <td>0.0920</td>\n",
       "      <td>0.0820</td>\n",
       "      <td>...</td>\n",
       "      <td>-110.95</td>\n",
       "      <td>0.0000</td>\n",
       "      <td>0.00</td>\n",
       "      <td>0.00</td>\n",
       "      <td>0.0</td>\n",
       "      <td>1.0</td>\n",
       "      <td>0</td>\n",
       "      <td>0</td>\n",
       "      <td>0.0</td>\n",
       "      <td>137</td>\n",
       "    </tr>\n",
       "    <tr>\n",
       "      <th>57722</th>\n",
       "      <td>71D13598564494793086BCE</td>\n",
       "      <td>1114161</td>\n",
       "      <td>2014-01-05 09:11:05.913000000</td>\n",
       "      <td>NaN</td>\n",
       "      <td>60</td>\n",
       "      <td>Current</td>\n",
       "      <td>NaN</td>\n",
       "      <td>0.22140</td>\n",
       "      <td>0.1970</td>\n",
       "      <td>0.1870</td>\n",
       "      <td>...</td>\n",
       "      <td>-8.49</td>\n",
       "      <td>0.0000</td>\n",
       "      <td>0.00</td>\n",
       "      <td>0.00</td>\n",
       "      <td>0.0</td>\n",
       "      <td>1.0</td>\n",
       "      <td>0</td>\n",
       "      <td>0</td>\n",
       "      <td>0.0</td>\n",
       "      <td>1</td>\n",
       "    </tr>\n",
       "  </tbody>\n",
       "</table>\n",
       "<p>20 rows × 81 columns</p>\n",
       "</div>"
      ],
      "text/plain": [
       "                     ListingKey  ListingNumber            ListingCreationDate  \\\n",
       "107508  150435000186547329D7C4D         483144  2010-11-07 12:27:21.233000000   \n",
       "91000   6C3E33870080013377B1179         119750  2007-04-05 21:23:35.163000000   \n",
       "57419   221A354403434274648E1B3         578641  2012-04-14 07:17:25.360000000   \n",
       "5282    955C3471522681505FCFF5B         439224  2009-12-20 06:13:49.930000000   \n",
       "87960   5FFA3426767201802ECBC3B         371246  2008-07-21 22:11:38.360000000   \n",
       "90077   BFA5356780061672403C680         702940  2013-01-20 13:45:59.553000000   \n",
       "52162   1E203595155288569E76653         992464  2013-11-13 11:35:52.903000000   \n",
       "96293   F3E63598592616746CEE45A        1102758  2013-12-22 08:56:23.153000000   \n",
       "50760   CDFB3588980067860F9C7F3         893227  2013-09-12 16:56:42.890000000   \n",
       "22197   56943400226787301FE0E1F         203513  2007-09-18 17:58:04.363000000   \n",
       "81942   D0D833956293527397A8394         178254  2007-07-29 18:14:10.047000000   \n",
       "21160   7C55338927798587095C74C         136473  2007-05-12 10:58:51.497000000   \n",
       "21864   6166360228886591949CD0A        1224585  2014-02-20 17:26:43.883000000   \n",
       "31563   C26435969938115540CCDA4        1027015  2013-12-05 06:13:43.420000000   \n",
       "34681   EB8634846515251651DD378         459846  2010-05-24 08:46:15.810000000   \n",
       "606     3C6C357164641405815A03A         723386  2013-03-07 08:14:55.623000000   \n",
       "96748   2A0E3537392610173A8F370         550558  2012-01-10 15:49:09.227000000   \n",
       "16243   A01C3579108354815512133         785200  2013-05-21 13:03:43.580000000   \n",
       "59200   255B3489887124848667DC4         467469  2010-07-19 12:09:12.860000000   \n",
       "57722   71D13598564494793086BCE        1114161  2014-01-05 09:11:05.913000000   \n",
       "\n",
       "       CreditGrade  Term  LoanStatus           ClosedDate  BorrowerAPR  \\\n",
       "107508         NaN    36   Completed  2011-06-03 00:00:00      0.31053   \n",
       "91000            C    36   Completed  2007-06-28 00:00:00      0.15412   \n",
       "57419          NaN    60  Chargedoff  2014-01-17 00:00:00      0.35838   \n",
       "5282           NaN    36   Completed  2012-12-06 00:00:00      0.10436   \n",
       "87960            B    36   Completed  2011-07-26 00:00:00      0.16941   \n",
       "90077          NaN    36   Completed  2013-12-03 00:00:00      0.15833   \n",
       "52162          NaN    36     Current                  NaN      0.32436   \n",
       "96293          NaN    36     Current                  NaN      0.22773   \n",
       "50760          NaN    36     Current                  NaN      0.20462   \n",
       "22197            B    36  Chargedoff  2009-06-03 00:00:00      0.13433   \n",
       "81942            C    36   Completed  2009-03-18 00:00:00      0.16707   \n",
       "21160            D    36  Chargedoff  2008-08-20 00:00:00      0.29776   \n",
       "21864          NaN    36     Current                  NaN      0.12727   \n",
       "31563          NaN    36     Current                  NaN      0.09030   \n",
       "34681          NaN    36  Chargedoff  2011-01-14 00:00:00      0.12309   \n",
       "606            NaN    36     Current                  NaN      0.09837   \n",
       "96748          NaN    60  Chargedoff  2013-12-24 00:00:00      0.20358   \n",
       "16243          NaN    60     Current                  NaN      0.20593   \n",
       "59200          NaN    36   Completed  2013-05-01 00:00:00      0.11296   \n",
       "57722          NaN    60     Current                  NaN      0.22140   \n",
       "\n",
       "        BorrowerRate  LenderYield  ...  LP_ServiceFees  LP_CollectionFees  \\\n",
       "107508        0.2750       0.2650  ...          -17.82             0.0000   \n",
       "91000         0.1470       0.1270  ...           -9.44             0.0000   \n",
       "57419         0.3304       0.3204  ...          -50.35             0.0000   \n",
       "5282          0.0835       0.0735  ...          -63.78             0.0000   \n",
       "87960         0.1550       0.1450  ...         -107.49             0.0000   \n",
       "90077         0.1299       0.1199  ...          -34.00             0.0000   \n",
       "52162         0.2849       0.2749  ...           -9.90             0.0000   \n",
       "96293         0.1905       0.1805  ...           -5.05             0.0000   \n",
       "50760         0.1679       0.1579  ...          -60.10             0.0000   \n",
       "22197         0.1273       0.1173  ...          -73.07             0.0000   \n",
       "81942         0.1599       0.1399  ...         -102.01             0.0000   \n",
       "21160         0.2900       0.2800  ...           -8.20          -101.5625   \n",
       "21864         0.0990       0.0890  ...            0.00             0.0000   \n",
       "31563         0.0769       0.0669  ...          -13.42             0.0000   \n",
       "34681         0.1020       0.0920  ...          -20.63             0.0000   \n",
       "606           0.0849       0.0749  ...          -23.44             0.0000   \n",
       "96748         0.1845       0.1745  ...         -183.02          -130.9000   \n",
       "16243         0.1819       0.1719  ...         -129.26             0.0000   \n",
       "59200         0.0920       0.0820  ...         -110.95             0.0000   \n",
       "57722         0.1970       0.1870  ...           -8.49             0.0000   \n",
       "\n",
       "        LP_GrossPrincipalLoss  LP_NetPrincipalLoss  \\\n",
       "107508                   0.00                 0.00   \n",
       "91000                    0.00                 0.00   \n",
       "57419                 3487.31              3487.31   \n",
       "5282                     0.00                 0.00   \n",
       "87960                    0.00                 0.00   \n",
       "90077                    0.00                 0.00   \n",
       "52162                    0.00                 0.00   \n",
       "96293                    0.00                 0.00   \n",
       "50760                    0.00                 0.00   \n",
       "22197                 4405.82              4405.82   \n",
       "81942                    0.00                 0.00   \n",
       "21160                 2195.92              2169.88   \n",
       "21864                    0.00                 0.00   \n",
       "31563                    0.00                 0.00   \n",
       "34681                11901.46             11901.46   \n",
       "606                      0.00                 0.00   \n",
       "96748                12223.40             12223.40   \n",
       "16243                    0.00                 0.00   \n",
       "59200                    0.00                 0.00   \n",
       "57722                    0.00                 0.00   \n",
       "\n",
       "       LP_NonPrincipalRecoverypayments  PercentFunded  Recommendations  \\\n",
       "107508                             0.0            1.0                0   \n",
       "91000                              0.0            1.0                0   \n",
       "57419                              0.0            1.0                0   \n",
       "5282                               0.0            1.0                0   \n",
       "87960                              0.0            1.0                0   \n",
       "90077                              0.0            1.0                0   \n",
       "52162                              0.0            1.0                0   \n",
       "96293                              0.0            1.0                0   \n",
       "50760                              0.0            1.0                0   \n",
       "22197                              0.0            1.0                0   \n",
       "81942                              0.0            1.0                0   \n",
       "21160                            214.3            1.0                0   \n",
       "21864                              0.0            1.0                0   \n",
       "31563                              0.0            1.0                0   \n",
       "34681                              0.0            1.0                0   \n",
       "606                                0.0            1.0                0   \n",
       "96748                              0.0            1.0                0   \n",
       "16243                              0.0            1.0                0   \n",
       "59200                              0.0            1.0                0   \n",
       "57722                              0.0            1.0                0   \n",
       "\n",
       "       InvestmentFromFriendsCount InvestmentFromFriendsAmount Investors  \n",
       "107508                          0                         0.0        81  \n",
       "91000                           0                         0.0       227  \n",
       "57419                           0                         0.0         8  \n",
       "5282                            0                         0.0       143  \n",
       "87960                           0                         0.0       180  \n",
       "90077                           0                         0.0        89  \n",
       "52162                           0                         0.0        35  \n",
       "96293                           0                         0.0         1  \n",
       "50760                           0                         0.0         1  \n",
       "22197                           0                         0.0       128  \n",
       "81942                           0                         0.0       311  \n",
       "21160                           0                         0.0         7  \n",
       "21864                           0                         0.0       103  \n",
       "31563                           0                         0.0       148  \n",
       "34681                           0                         0.0       367  \n",
       "606                             0                         0.0        90  \n",
       "96748                           0                         0.0       247  \n",
       "16243                           0                         0.0         1  \n",
       "59200                           0                         0.0       137  \n",
       "57722                           0                         0.0         1  \n",
       "\n",
       "[20 rows x 81 columns]"
      ]
     },
     "execution_count": 6,
     "metadata": {},
     "output_type": "execute_result"
    }
   ],
   "source": [
    "# get a sample of the dataset for visual assessment\n",
    "prosper.sample(20)"
   ]
  },
  {
   "cell_type": "code",
   "execution_count": 7,
   "metadata": {},
   "outputs": [
    {
     "data": {
      "text/html": [
       "<div>\n",
       "<style scoped>\n",
       "    .dataframe tbody tr th:only-of-type {\n",
       "        vertical-align: middle;\n",
       "    }\n",
       "\n",
       "    .dataframe tbody tr th {\n",
       "        vertical-align: top;\n",
       "    }\n",
       "\n",
       "    .dataframe thead th {\n",
       "        text-align: right;\n",
       "    }\n",
       "</style>\n",
       "<table border=\"1\" class=\"dataframe\">\n",
       "  <thead>\n",
       "    <tr style=\"text-align: right;\">\n",
       "      <th></th>\n",
       "      <th>ListingNumber</th>\n",
       "      <th>Term</th>\n",
       "      <th>BorrowerAPR</th>\n",
       "      <th>BorrowerRate</th>\n",
       "      <th>LenderYield</th>\n",
       "      <th>EstimatedEffectiveYield</th>\n",
       "      <th>EstimatedLoss</th>\n",
       "      <th>EstimatedReturn</th>\n",
       "      <th>ProsperRating (numeric)</th>\n",
       "      <th>ProsperScore</th>\n",
       "      <th>...</th>\n",
       "      <th>LP_ServiceFees</th>\n",
       "      <th>LP_CollectionFees</th>\n",
       "      <th>LP_GrossPrincipalLoss</th>\n",
       "      <th>LP_NetPrincipalLoss</th>\n",
       "      <th>LP_NonPrincipalRecoverypayments</th>\n",
       "      <th>PercentFunded</th>\n",
       "      <th>Recommendations</th>\n",
       "      <th>InvestmentFromFriendsCount</th>\n",
       "      <th>InvestmentFromFriendsAmount</th>\n",
       "      <th>Investors</th>\n",
       "    </tr>\n",
       "  </thead>\n",
       "  <tbody>\n",
       "    <tr>\n",
       "      <th>count</th>\n",
       "      <td>1.139370e+05</td>\n",
       "      <td>113937.000000</td>\n",
       "      <td>113912.000000</td>\n",
       "      <td>113937.000000</td>\n",
       "      <td>113937.000000</td>\n",
       "      <td>84853.000000</td>\n",
       "      <td>84853.000000</td>\n",
       "      <td>84853.000000</td>\n",
       "      <td>84853.000000</td>\n",
       "      <td>84853.000000</td>\n",
       "      <td>...</td>\n",
       "      <td>113937.000000</td>\n",
       "      <td>113937.000000</td>\n",
       "      <td>113937.000000</td>\n",
       "      <td>113937.000000</td>\n",
       "      <td>113937.000000</td>\n",
       "      <td>113937.000000</td>\n",
       "      <td>113937.000000</td>\n",
       "      <td>113937.000000</td>\n",
       "      <td>113937.000000</td>\n",
       "      <td>113937.000000</td>\n",
       "    </tr>\n",
       "    <tr>\n",
       "      <th>mean</th>\n",
       "      <td>6.278857e+05</td>\n",
       "      <td>40.830248</td>\n",
       "      <td>0.218828</td>\n",
       "      <td>0.192764</td>\n",
       "      <td>0.182701</td>\n",
       "      <td>0.168661</td>\n",
       "      <td>0.080306</td>\n",
       "      <td>0.096068</td>\n",
       "      <td>4.072243</td>\n",
       "      <td>5.950067</td>\n",
       "      <td>...</td>\n",
       "      <td>-54.725641</td>\n",
       "      <td>-14.242698</td>\n",
       "      <td>700.446342</td>\n",
       "      <td>681.420499</td>\n",
       "      <td>25.142686</td>\n",
       "      <td>0.998584</td>\n",
       "      <td>0.048027</td>\n",
       "      <td>0.023460</td>\n",
       "      <td>16.550751</td>\n",
       "      <td>80.475228</td>\n",
       "    </tr>\n",
       "    <tr>\n",
       "      <th>std</th>\n",
       "      <td>3.280762e+05</td>\n",
       "      <td>10.436212</td>\n",
       "      <td>0.080364</td>\n",
       "      <td>0.074818</td>\n",
       "      <td>0.074516</td>\n",
       "      <td>0.068467</td>\n",
       "      <td>0.046764</td>\n",
       "      <td>0.030403</td>\n",
       "      <td>1.673227</td>\n",
       "      <td>2.376501</td>\n",
       "      <td>...</td>\n",
       "      <td>60.675425</td>\n",
       "      <td>109.232758</td>\n",
       "      <td>2388.513831</td>\n",
       "      <td>2357.167068</td>\n",
       "      <td>275.657937</td>\n",
       "      <td>0.017919</td>\n",
       "      <td>0.332353</td>\n",
       "      <td>0.232412</td>\n",
       "      <td>294.545422</td>\n",
       "      <td>103.239020</td>\n",
       "    </tr>\n",
       "    <tr>\n",
       "      <th>min</th>\n",
       "      <td>4.000000e+00</td>\n",
       "      <td>12.000000</td>\n",
       "      <td>0.006530</td>\n",
       "      <td>0.000000</td>\n",
       "      <td>-0.010000</td>\n",
       "      <td>-0.182700</td>\n",
       "      <td>0.004900</td>\n",
       "      <td>-0.182700</td>\n",
       "      <td>1.000000</td>\n",
       "      <td>1.000000</td>\n",
       "      <td>...</td>\n",
       "      <td>-664.870000</td>\n",
       "      <td>-9274.750000</td>\n",
       "      <td>-94.200000</td>\n",
       "      <td>-954.550000</td>\n",
       "      <td>0.000000</td>\n",
       "      <td>0.700000</td>\n",
       "      <td>0.000000</td>\n",
       "      <td>0.000000</td>\n",
       "      <td>0.000000</td>\n",
       "      <td>1.000000</td>\n",
       "    </tr>\n",
       "    <tr>\n",
       "      <th>25%</th>\n",
       "      <td>4.009190e+05</td>\n",
       "      <td>36.000000</td>\n",
       "      <td>0.156290</td>\n",
       "      <td>0.134000</td>\n",
       "      <td>0.124200</td>\n",
       "      <td>0.115670</td>\n",
       "      <td>0.042400</td>\n",
       "      <td>0.074080</td>\n",
       "      <td>3.000000</td>\n",
       "      <td>4.000000</td>\n",
       "      <td>...</td>\n",
       "      <td>-73.180000</td>\n",
       "      <td>0.000000</td>\n",
       "      <td>0.000000</td>\n",
       "      <td>0.000000</td>\n",
       "      <td>0.000000</td>\n",
       "      <td>1.000000</td>\n",
       "      <td>0.000000</td>\n",
       "      <td>0.000000</td>\n",
       "      <td>0.000000</td>\n",
       "      <td>2.000000</td>\n",
       "    </tr>\n",
       "    <tr>\n",
       "      <th>50%</th>\n",
       "      <td>6.005540e+05</td>\n",
       "      <td>36.000000</td>\n",
       "      <td>0.209760</td>\n",
       "      <td>0.184000</td>\n",
       "      <td>0.173000</td>\n",
       "      <td>0.161500</td>\n",
       "      <td>0.072400</td>\n",
       "      <td>0.091700</td>\n",
       "      <td>4.000000</td>\n",
       "      <td>6.000000</td>\n",
       "      <td>...</td>\n",
       "      <td>-34.440000</td>\n",
       "      <td>0.000000</td>\n",
       "      <td>0.000000</td>\n",
       "      <td>0.000000</td>\n",
       "      <td>0.000000</td>\n",
       "      <td>1.000000</td>\n",
       "      <td>0.000000</td>\n",
       "      <td>0.000000</td>\n",
       "      <td>0.000000</td>\n",
       "      <td>44.000000</td>\n",
       "    </tr>\n",
       "    <tr>\n",
       "      <th>75%</th>\n",
       "      <td>8.926340e+05</td>\n",
       "      <td>36.000000</td>\n",
       "      <td>0.283810</td>\n",
       "      <td>0.250000</td>\n",
       "      <td>0.240000</td>\n",
       "      <td>0.224300</td>\n",
       "      <td>0.112000</td>\n",
       "      <td>0.116600</td>\n",
       "      <td>5.000000</td>\n",
       "      <td>8.000000</td>\n",
       "      <td>...</td>\n",
       "      <td>-13.920000</td>\n",
       "      <td>0.000000</td>\n",
       "      <td>0.000000</td>\n",
       "      <td>0.000000</td>\n",
       "      <td>0.000000</td>\n",
       "      <td>1.000000</td>\n",
       "      <td>0.000000</td>\n",
       "      <td>0.000000</td>\n",
       "      <td>0.000000</td>\n",
       "      <td>115.000000</td>\n",
       "    </tr>\n",
       "    <tr>\n",
       "      <th>max</th>\n",
       "      <td>1.255725e+06</td>\n",
       "      <td>60.000000</td>\n",
       "      <td>0.512290</td>\n",
       "      <td>0.497500</td>\n",
       "      <td>0.492500</td>\n",
       "      <td>0.319900</td>\n",
       "      <td>0.366000</td>\n",
       "      <td>0.283700</td>\n",
       "      <td>7.000000</td>\n",
       "      <td>11.000000</td>\n",
       "      <td>...</td>\n",
       "      <td>32.060000</td>\n",
       "      <td>0.000000</td>\n",
       "      <td>25000.000000</td>\n",
       "      <td>25000.000000</td>\n",
       "      <td>21117.900000</td>\n",
       "      <td>1.012500</td>\n",
       "      <td>39.000000</td>\n",
       "      <td>33.000000</td>\n",
       "      <td>25000.000000</td>\n",
       "      <td>1189.000000</td>\n",
       "    </tr>\n",
       "  </tbody>\n",
       "</table>\n",
       "<p>8 rows × 61 columns</p>\n",
       "</div>"
      ],
      "text/plain": [
       "       ListingNumber           Term    BorrowerAPR   BorrowerRate  \\\n",
       "count   1.139370e+05  113937.000000  113912.000000  113937.000000   \n",
       "mean    6.278857e+05      40.830248       0.218828       0.192764   \n",
       "std     3.280762e+05      10.436212       0.080364       0.074818   \n",
       "min     4.000000e+00      12.000000       0.006530       0.000000   \n",
       "25%     4.009190e+05      36.000000       0.156290       0.134000   \n",
       "50%     6.005540e+05      36.000000       0.209760       0.184000   \n",
       "75%     8.926340e+05      36.000000       0.283810       0.250000   \n",
       "max     1.255725e+06      60.000000       0.512290       0.497500   \n",
       "\n",
       "         LenderYield  EstimatedEffectiveYield  EstimatedLoss  EstimatedReturn  \\\n",
       "count  113937.000000             84853.000000   84853.000000     84853.000000   \n",
       "mean        0.182701                 0.168661       0.080306         0.096068   \n",
       "std         0.074516                 0.068467       0.046764         0.030403   \n",
       "min        -0.010000                -0.182700       0.004900        -0.182700   \n",
       "25%         0.124200                 0.115670       0.042400         0.074080   \n",
       "50%         0.173000                 0.161500       0.072400         0.091700   \n",
       "75%         0.240000                 0.224300       0.112000         0.116600   \n",
       "max         0.492500                 0.319900       0.366000         0.283700   \n",
       "\n",
       "       ProsperRating (numeric)  ProsperScore  ...  LP_ServiceFees  \\\n",
       "count             84853.000000  84853.000000  ...   113937.000000   \n",
       "mean                  4.072243      5.950067  ...      -54.725641   \n",
       "std                   1.673227      2.376501  ...       60.675425   \n",
       "min                   1.000000      1.000000  ...     -664.870000   \n",
       "25%                   3.000000      4.000000  ...      -73.180000   \n",
       "50%                   4.000000      6.000000  ...      -34.440000   \n",
       "75%                   5.000000      8.000000  ...      -13.920000   \n",
       "max                   7.000000     11.000000  ...       32.060000   \n",
       "\n",
       "       LP_CollectionFees  LP_GrossPrincipalLoss  LP_NetPrincipalLoss  \\\n",
       "count      113937.000000          113937.000000        113937.000000   \n",
       "mean          -14.242698             700.446342           681.420499   \n",
       "std           109.232758            2388.513831          2357.167068   \n",
       "min         -9274.750000             -94.200000          -954.550000   \n",
       "25%             0.000000               0.000000             0.000000   \n",
       "50%             0.000000               0.000000             0.000000   \n",
       "75%             0.000000               0.000000             0.000000   \n",
       "max             0.000000           25000.000000         25000.000000   \n",
       "\n",
       "       LP_NonPrincipalRecoverypayments  PercentFunded  Recommendations  \\\n",
       "count                    113937.000000  113937.000000    113937.000000   \n",
       "mean                         25.142686       0.998584         0.048027   \n",
       "std                         275.657937       0.017919         0.332353   \n",
       "min                           0.000000       0.700000         0.000000   \n",
       "25%                           0.000000       1.000000         0.000000   \n",
       "50%                           0.000000       1.000000         0.000000   \n",
       "75%                           0.000000       1.000000         0.000000   \n",
       "max                       21117.900000       1.012500        39.000000   \n",
       "\n",
       "       InvestmentFromFriendsCount  InvestmentFromFriendsAmount      Investors  \n",
       "count               113937.000000                113937.000000  113937.000000  \n",
       "mean                     0.023460                    16.550751      80.475228  \n",
       "std                      0.232412                   294.545422     103.239020  \n",
       "min                      0.000000                     0.000000       1.000000  \n",
       "25%                      0.000000                     0.000000       2.000000  \n",
       "50%                      0.000000                     0.000000      44.000000  \n",
       "75%                      0.000000                     0.000000     115.000000  \n",
       "max                     33.000000                 25000.000000    1189.000000  \n",
       "\n",
       "[8 rows x 61 columns]"
      ]
     },
     "execution_count": 7,
     "metadata": {},
     "output_type": "execute_result"
    }
   ],
   "source": [
    "# get the descriptive statistics of the dataset for programmatic assessment\n",
    "prosper.describe()"
   ]
  },
  {
   "cell_type": "code",
   "execution_count": 8,
   "metadata": {},
   "outputs": [
    {
     "data": {
      "text/plain": [
       "ListingKey                     113066\n",
       "ListingNumber                  113066\n",
       "ListingCreationDate            113064\n",
       "CreditGrade                         8\n",
       "Term                                3\n",
       "                                ...  \n",
       "PercentFunded                     719\n",
       "Recommendations                    17\n",
       "InvestmentFromFriendsCount         14\n",
       "InvestmentFromFriendsAmount       726\n",
       "Investors                         751\n",
       "Length: 81, dtype: int64"
      ]
     },
     "execution_count": 8,
     "metadata": {},
     "output_type": "execute_result"
    }
   ],
   "source": [
    "# get the number of unique values in the dataset\n",
    "prosper.nunique()"
   ]
  },
  {
   "cell_type": "code",
   "execution_count": 9,
   "metadata": {},
   "outputs": [
    {
     "data": {
      "text/plain": [
       "0"
      ]
     },
     "execution_count": 9,
     "metadata": {},
     "output_type": "execute_result"
    }
   ],
   "source": [
    "# get the sum of the duplicated values in the columns of the dataset\n",
    "prosper.duplicated().sum()"
   ]
  },
  {
   "cell_type": "code",
   "execution_count": 10,
   "metadata": {},
   "outputs": [],
   "source": [
    "# Make a copy of the dataframe.\n",
    "prosper_clean = prosper.copy()"
   ]
  },
  {
   "cell_type": "markdown",
   "metadata": {},
   "source": [
    "### Issues:\n",
    "1. Certain columns have too few values and will not significantly contribute to the analysis process.\n",
    "2. Not all the loans have ProsperScore\n",
    "3. Not all the loans have the DebtToIncomeRatio\n",
    "4. There are ratings of 11 in the ProsperScore column.\n"
   ]
  },
  {
   "cell_type": "markdown",
   "metadata": {},
   "source": [
    "#### Issue 1:  Certain columns have too few values and will not significantly contribute to the analysis process."
   ]
  },
  {
   "cell_type": "code",
   "execution_count": 11,
   "metadata": {},
   "outputs": [
    {
     "data": {
      "text/plain": [
       "['ListingKey',\n",
       " 'ListingNumber',\n",
       " 'ListingCreationDate',\n",
       " 'CreditGrade',\n",
       " 'Term',\n",
       " 'LoanStatus',\n",
       " 'ClosedDate',\n",
       " 'BorrowerAPR',\n",
       " 'BorrowerRate',\n",
       " 'LenderYield',\n",
       " 'EstimatedEffectiveYield',\n",
       " 'EstimatedLoss',\n",
       " 'EstimatedReturn',\n",
       " 'ProsperRating (numeric)',\n",
       " 'ProsperRating (Alpha)',\n",
       " 'ProsperScore',\n",
       " 'ListingCategory (numeric)',\n",
       " 'BorrowerState',\n",
       " 'Occupation',\n",
       " 'EmploymentStatus',\n",
       " 'EmploymentStatusDuration',\n",
       " 'IsBorrowerHomeowner',\n",
       " 'CurrentlyInGroup',\n",
       " 'GroupKey',\n",
       " 'DateCreditPulled',\n",
       " 'CreditScoreRangeLower',\n",
       " 'CreditScoreRangeUpper',\n",
       " 'FirstRecordedCreditLine',\n",
       " 'CurrentCreditLines',\n",
       " 'OpenCreditLines',\n",
       " 'TotalCreditLinespast7years',\n",
       " 'OpenRevolvingAccounts',\n",
       " 'OpenRevolvingMonthlyPayment',\n",
       " 'InquiriesLast6Months',\n",
       " 'TotalInquiries',\n",
       " 'CurrentDelinquencies',\n",
       " 'AmountDelinquent',\n",
       " 'DelinquenciesLast7Years',\n",
       " 'PublicRecordsLast10Years',\n",
       " 'PublicRecordsLast12Months',\n",
       " 'RevolvingCreditBalance',\n",
       " 'BankcardUtilization',\n",
       " 'AvailableBankcardCredit',\n",
       " 'TotalTrades',\n",
       " 'TradesNeverDelinquent (percentage)',\n",
       " 'TradesOpenedLast6Months',\n",
       " 'DebtToIncomeRatio',\n",
       " 'IncomeRange',\n",
       " 'IncomeVerifiable',\n",
       " 'StatedMonthlyIncome',\n",
       " 'LoanKey',\n",
       " 'TotalProsperLoans',\n",
       " 'TotalProsperPaymentsBilled',\n",
       " 'OnTimeProsperPayments',\n",
       " 'ProsperPaymentsLessThanOneMonthLate',\n",
       " 'ProsperPaymentsOneMonthPlusLate',\n",
       " 'ProsperPrincipalBorrowed',\n",
       " 'ProsperPrincipalOutstanding',\n",
       " 'ScorexChangeAtTimeOfListing',\n",
       " 'LoanCurrentDaysDelinquent',\n",
       " 'LoanFirstDefaultedCycleNumber',\n",
       " 'LoanMonthsSinceOrigination',\n",
       " 'LoanNumber',\n",
       " 'LoanOriginalAmount',\n",
       " 'LoanOriginationDate',\n",
       " 'LoanOriginationQuarter',\n",
       " 'MemberKey',\n",
       " 'MonthlyLoanPayment',\n",
       " 'LP_CustomerPayments',\n",
       " 'LP_CustomerPrincipalPayments',\n",
       " 'LP_InterestandFees',\n",
       " 'LP_ServiceFees',\n",
       " 'LP_CollectionFees',\n",
       " 'LP_GrossPrincipalLoss',\n",
       " 'LP_NetPrincipalLoss',\n",
       " 'LP_NonPrincipalRecoverypayments',\n",
       " 'PercentFunded',\n",
       " 'Recommendations',\n",
       " 'InvestmentFromFriendsCount',\n",
       " 'InvestmentFromFriendsAmount',\n",
       " 'Investors']"
      ]
     },
     "execution_count": 11,
     "metadata": {},
     "output_type": "execute_result"
    }
   ],
   "source": [
    "# Get the list of the columns in the dataset\n",
    "column_list = prosper_clean.columns.tolist()\n",
    "column_list"
   ]
  },
  {
   "cell_type": "code",
   "execution_count": 12,
   "metadata": {},
   "outputs": [
    {
     "data": {
      "text/plain": [
       "98374     0.0\n",
       "65235     3.0\n",
       "54155     1.0\n",
       "103856    0.0\n",
       "57903     0.0\n",
       "35333     0.0\n",
       "7554      0.0\n",
       "3890      0.0\n",
       "31523     0.0\n",
       "64371     0.0\n",
       "Name: PublicRecordsLast10Years, dtype: float64"
      ]
     },
     "execution_count": 12,
     "metadata": {},
     "output_type": "execute_result"
    }
   ],
   "source": [
    "prosper_clean.PublicRecordsLast10Years.sample(10)"
   ]
  },
  {
   "cell_type": "code",
   "execution_count": 13,
   "metadata": {},
   "outputs": [],
   "source": [
    "# Drop the columns that have too few values and others that will not significantly contribute\n",
    "# to my analysis of the data\n",
    "\n",
    "prosper_clean.drop(columns = ['CreditGrade','ClosedDate','TotalProsperLoans',\n",
    " 'TotalProsperPaymentsBilled','OnTimeProsperPayments','ProsperPaymentsLessThanOneMonthLate',\n",
    " 'ProsperPaymentsOneMonthPlusLate','ProsperPrincipalBorrowed','ProsperPrincipalOutstanding',\n",
    " 'ScorexChangeAtTimeOfListing', 'LoanCurrentDaysDelinquent',\n",
    "'LoanFirstDefaultedCycleNumber', 'GroupKey', 'CurrentlyInGroup',\n",
    "'DateCreditPulled', 'CreditScoreRangeLower', 'CreditScoreRangeUpper',\n",
    "'FirstRecordedCreditLine', 'CurrentCreditLines', 'OpenCreditLines',\n",
    "'TotalCreditLinespast7years', 'OpenRevolvingAccounts',\n",
    "'OpenRevolvingMonthlyPayment', 'PublicRecordsLast10Years',\n",
    "'RevolvingCreditBalance', 'BankcardUtilization',\n",
    "'TotalTrades', 'TradesNeverDelinquent (percentage)',\n",
    "'TradesOpenedLast6Months', 'InquiriesLast6Months',\n",
    "'MemberKey','LP_CustomerPayments', 'LP_CustomerPrincipalPayments',\n",
    "'LP_InterestandFees', 'LP_ServiceFees', 'LP_CollectionFees',\n",
    "'LP_GrossPrincipalLoss', 'LP_NetPrincipalLoss', \n",
    "'LP_NonPrincipalRecoverypayments'], inplace= True)"
   ]
  },
  {
   "cell_type": "code",
   "execution_count": 14,
   "metadata": {},
   "outputs": [
    {
     "name": "stdout",
     "output_type": "stream",
     "text": [
      "<class 'pandas.core.frame.DataFrame'>\n",
      "RangeIndex: 113937 entries, 0 to 113936\n",
      "Data columns (total 42 columns):\n",
      " #   Column                       Non-Null Count   Dtype  \n",
      "---  ------                       --------------   -----  \n",
      " 0   ListingKey                   113937 non-null  object \n",
      " 1   ListingNumber                113937 non-null  int64  \n",
      " 2   ListingCreationDate          113937 non-null  object \n",
      " 3   Term                         113937 non-null  int64  \n",
      " 4   LoanStatus                   113937 non-null  object \n",
      " 5   BorrowerAPR                  113912 non-null  float64\n",
      " 6   BorrowerRate                 113937 non-null  float64\n",
      " 7   LenderYield                  113937 non-null  float64\n",
      " 8   EstimatedEffectiveYield      84853 non-null   float64\n",
      " 9   EstimatedLoss                84853 non-null   float64\n",
      " 10  EstimatedReturn              84853 non-null   float64\n",
      " 11  ProsperRating (numeric)      84853 non-null   float64\n",
      " 12  ProsperRating (Alpha)        84853 non-null   object \n",
      " 13  ProsperScore                 84853 non-null   float64\n",
      " 14  ListingCategory (numeric)    113937 non-null  int64  \n",
      " 15  BorrowerState                108422 non-null  object \n",
      " 16  Occupation                   110349 non-null  object \n",
      " 17  EmploymentStatus             111682 non-null  object \n",
      " 18  EmploymentStatusDuration     106312 non-null  float64\n",
      " 19  IsBorrowerHomeowner          113937 non-null  bool   \n",
      " 20  TotalInquiries               112778 non-null  float64\n",
      " 21  CurrentDelinquencies         113240 non-null  float64\n",
      " 22  AmountDelinquent             106315 non-null  float64\n",
      " 23  DelinquenciesLast7Years      112947 non-null  float64\n",
      " 24  PublicRecordsLast12Months    106333 non-null  float64\n",
      " 25  AvailableBankcardCredit      106393 non-null  float64\n",
      " 26  DebtToIncomeRatio            105383 non-null  float64\n",
      " 27  IncomeRange                  113937 non-null  object \n",
      " 28  IncomeVerifiable             113937 non-null  bool   \n",
      " 29  StatedMonthlyIncome          113937 non-null  float64\n",
      " 30  LoanKey                      113937 non-null  object \n",
      " 31  LoanMonthsSinceOrigination   113937 non-null  int64  \n",
      " 32  LoanNumber                   113937 non-null  int64  \n",
      " 33  LoanOriginalAmount           113937 non-null  int64  \n",
      " 34  LoanOriginationDate          113937 non-null  object \n",
      " 35  LoanOriginationQuarter       113937 non-null  object \n",
      " 36  MonthlyLoanPayment           113937 non-null  float64\n",
      " 37  PercentFunded                113937 non-null  float64\n",
      " 38  Recommendations              113937 non-null  int64  \n",
      " 39  InvestmentFromFriendsCount   113937 non-null  int64  \n",
      " 40  InvestmentFromFriendsAmount  113937 non-null  float64\n",
      " 41  Investors                    113937 non-null  int64  \n",
      "dtypes: bool(2), float64(20), int64(9), object(11)\n",
      "memory usage: 35.0+ MB\n"
     ]
    }
   ],
   "source": [
    "# check that the columns have been dropped\n",
    "prosper_clean.info()"
   ]
  },
  {
   "cell_type": "markdown",
   "metadata": {},
   "source": [
    "#### Issue 2: Not all the loans have ProsperScore."
   ]
  },
  {
   "cell_type": "code",
   "execution_count": 15,
   "metadata": {},
   "outputs": [],
   "source": [
    "# Only loans with ProsperScore will be useful for the analysis. Hence, we need\n",
    "# to filter out loans without ProsperScore\n",
    "\n",
    "prosper_clean = prosper_clean[prosper_clean.ProsperScore.isnull() == False]"
   ]
  },
  {
   "cell_type": "code",
   "execution_count": 16,
   "metadata": {},
   "outputs": [
    {
     "data": {
      "text/plain": [
       "0"
      ]
     },
     "execution_count": 16,
     "metadata": {},
     "output_type": "execute_result"
    }
   ],
   "source": [
    "# Check that all the loans now have ProsperScore\n",
    "prosper_clean.ProsperScore.isnull().sum()"
   ]
  },
  {
   "cell_type": "markdown",
   "metadata": {},
   "source": [
    "#### Issue 3: Not all the loans have DebtToIncomeRatio"
   ]
  },
  {
   "cell_type": "code",
   "execution_count": 17,
   "metadata": {},
   "outputs": [],
   "source": [
    "# Fill the blank records with the mean of the DebtToIncomeRatio\n",
    "# But first, get the mean\n",
    "mean = prosper_clean.DebtToIncomeRatio.mean()\n",
    "\n",
    "# Next, write the code that fills in blank spaces with the mean\n",
    "prosper_clean.DebtToIncomeRatio = prosper_clean.DebtToIncomeRatio.fillna(mean) "
   ]
  },
  {
   "cell_type": "code",
   "execution_count": 18,
   "metadata": {},
   "outputs": [
    {
     "data": {
      "text/plain": [
       "0"
      ]
     },
     "execution_count": 18,
     "metadata": {},
     "output_type": "execute_result"
    }
   ],
   "source": [
    "# Verify that the 'DebtToIncomeRatio' column does not have any null value\n",
    "prosper_clean.DebtToIncomeRatio.isnull().sum()"
   ]
  },
  {
   "cell_type": "markdown",
   "metadata": {},
   "source": [
    "#### Issue 4: There are ratings of 11 in the ProsperScore column"
   ]
  },
  {
   "cell_type": "code",
   "execution_count": 19,
   "metadata": {},
   "outputs": [],
   "source": [
    "# drop the rows with rating of 11 in the ProsperScore column\n",
    "prosper_clean.drop(prosper_clean[prosper_clean.ProsperScore == 11].index, inplace = True)"
   ]
  },
  {
   "cell_type": "code",
   "execution_count": 20,
   "metadata": {},
   "outputs": [
    {
     "data": {
      "text/html": [
       "<div>\n",
       "<style scoped>\n",
       "    .dataframe tbody tr th:only-of-type {\n",
       "        vertical-align: middle;\n",
       "    }\n",
       "\n",
       "    .dataframe tbody tr th {\n",
       "        vertical-align: top;\n",
       "    }\n",
       "\n",
       "    .dataframe thead th {\n",
       "        text-align: right;\n",
       "    }\n",
       "</style>\n",
       "<table border=\"1\" class=\"dataframe\">\n",
       "  <thead>\n",
       "    <tr style=\"text-align: right;\">\n",
       "      <th></th>\n",
       "      <th>ListingKey</th>\n",
       "      <th>ListingNumber</th>\n",
       "      <th>ListingCreationDate</th>\n",
       "      <th>Term</th>\n",
       "      <th>LoanStatus</th>\n",
       "      <th>BorrowerAPR</th>\n",
       "      <th>BorrowerRate</th>\n",
       "      <th>LenderYield</th>\n",
       "      <th>EstimatedEffectiveYield</th>\n",
       "      <th>EstimatedLoss</th>\n",
       "      <th>...</th>\n",
       "      <th>LoanNumber</th>\n",
       "      <th>LoanOriginalAmount</th>\n",
       "      <th>LoanOriginationDate</th>\n",
       "      <th>LoanOriginationQuarter</th>\n",
       "      <th>MonthlyLoanPayment</th>\n",
       "      <th>PercentFunded</th>\n",
       "      <th>Recommendations</th>\n",
       "      <th>InvestmentFromFriendsCount</th>\n",
       "      <th>InvestmentFromFriendsAmount</th>\n",
       "      <th>Investors</th>\n",
       "    </tr>\n",
       "  </thead>\n",
       "  <tbody>\n",
       "  </tbody>\n",
       "</table>\n",
       "<p>0 rows × 42 columns</p>\n",
       "</div>"
      ],
      "text/plain": [
       "Empty DataFrame\n",
       "Columns: [ListingKey, ListingNumber, ListingCreationDate, Term, LoanStatus, BorrowerAPR, BorrowerRate, LenderYield, EstimatedEffectiveYield, EstimatedLoss, EstimatedReturn, ProsperRating (numeric), ProsperRating (Alpha), ProsperScore, ListingCategory (numeric), BorrowerState, Occupation, EmploymentStatus, EmploymentStatusDuration, IsBorrowerHomeowner, TotalInquiries, CurrentDelinquencies, AmountDelinquent, DelinquenciesLast7Years, PublicRecordsLast12Months, AvailableBankcardCredit, DebtToIncomeRatio, IncomeRange, IncomeVerifiable, StatedMonthlyIncome, LoanKey, LoanMonthsSinceOrigination, LoanNumber, LoanOriginalAmount, LoanOriginationDate, LoanOriginationQuarter, MonthlyLoanPayment, PercentFunded, Recommendations, InvestmentFromFriendsCount, InvestmentFromFriendsAmount, Investors]\n",
       "Index: []\n",
       "\n",
       "[0 rows x 42 columns]"
      ]
     },
     "execution_count": 20,
     "metadata": {},
     "output_type": "execute_result"
    }
   ],
   "source": [
    "# confirm that these rows have been dropped\n",
    "prosper_clean[prosper_clean.ProsperScore == 11]"
   ]
  },
  {
   "cell_type": "markdown",
   "metadata": {},
   "source": [
    "## Univariate Exploration\n"
   ]
  },
  {
   "cell_type": "markdown",
   "metadata": {},
   "source": [
    "### Insight 1"
   ]
  },
  {
   "cell_type": "markdown",
   "metadata": {},
   "source": [
    "#### Question: What is the distribution of the 'term' of the loan"
   ]
  },
  {
   "cell_type": "markdown",
   "metadata": {},
   "source": [
    "#### Visualisation"
   ]
  },
  {
   "cell_type": "code",
   "execution_count": 21,
   "metadata": {},
   "outputs": [
    {
     "data": {
      "text/plain": [
       "count    83397.000000\n",
       "mean        42.482248\n",
       "std         11.654919\n",
       "min         12.000000\n",
       "25%         36.000000\n",
       "50%         36.000000\n",
       "75%         60.000000\n",
       "max         60.000000\n",
       "Name: Term, dtype: float64"
      ]
     },
     "execution_count": 21,
     "metadata": {},
     "output_type": "execute_result"
    }
   ],
   "source": [
    "# To get the descriptive statistics of the Term column\n",
    "prosper_clean.Term.describe()"
   ]
  },
  {
   "cell_type": "code",
   "execution_count": 22,
   "metadata": {},
   "outputs": [
    {
     "data": {
      "text/plain": [
       "array([36, 60, 12], dtype=int64)"
      ]
     },
     "execution_count": 22,
     "metadata": {},
     "output_type": "execute_result"
    }
   ],
   "source": [
    "# To get the number of unique values of the Term column\n",
    "prosper_clean.Term.unique()"
   ]
  },
  {
   "cell_type": "code",
   "execution_count": 23,
   "metadata": {},
   "outputs": [
    {
     "data": {
      "image/png": "[encoded data removed]",
      "text/plain": [
       "<Figure size 432x288 with 1 Axes>"
      ]
     },
     "metadata": {
      "needs_background": "light"
     },
     "output_type": "display_data"
    }
   ],
   "source": [
    "# To plot an histogram that shows the distribution of the length\n",
    "# of the loans expressed in months\n",
    "ticks = [0, 12, 24, 36, 48, 60, 72]\n",
    "labels = ('{}'.format(x) for x in ticks)\n",
    "plt.hist(data = prosper_clean, x = 'Term')\n",
    "plt.xticks(ticks, labels)\n",
    "plt.xlabel('Term of the loan (months)')\n",
    "plt.ylabel('Count');"
   ]
  },
  {
   "cell_type": "markdown",
   "metadata": {},
   "source": [
    "#### Observation:\n",
    " It was observed that the Term column has only three unique values which are 12, 36 and 60 months. These correspond to 1 year, 3 years and 5 years respectively. From the visualization, it can be ascertained that the most frequent term for the loans is 36 months, in order words 3 years "
   ]
  },
  {
   "cell_type": "markdown",
   "metadata": {},
   "source": [
    "### Insight 2"
   ]
  },
  {
   "cell_type": "markdown",
   "metadata": {},
   "source": [
    "#### Question: How is the loan status distributed in this dataset?"
   ]
  },
  {
   "cell_type": "markdown",
   "metadata": {},
   "source": [
    "#### Visualisation"
   ]
  },
  {
   "cell_type": "code",
   "execution_count": 24,
   "metadata": {},
   "outputs": [
    {
     "data": {
      "text/plain": [
       "array(['Current', 'Past Due (1-15 days)', 'Defaulted', 'Completed',\n",
       "       'Chargedoff', 'Past Due (16-30 days)', 'Past Due (61-90 days)',\n",
       "       'Past Due (31-60 days)', 'Past Due (91-120 days)',\n",
       "       'FinalPaymentInProgress', 'Past Due (>120 days)'], dtype=object)"
      ]
     },
     "execution_count": 24,
     "metadata": {},
     "output_type": "execute_result"
    }
   ],
   "source": [
    "# Get the uniques values in the LoanStatus column\n",
    "prosper_clean.LoanStatus.unique()"
   ]
  },
  {
   "cell_type": "code",
   "execution_count": 25,
   "metadata": {},
   "outputs": [
    {
     "data": {
      "image/png": "[encoded data removed]",
      "text/plain": [
       "<Figure size 432x288 with 1 Axes>"
      ]
     },
     "metadata": {
      "needs_background": "light"
     },
     "output_type": "display_data"
    }
   ],
   "source": [
    "# Plot a bar chart to visualise the distribution of the LoanStatus column\n",
    "base_color = sb.color_palette()[0]\n",
    "status_order = prosper_clean.LoanStatus.value_counts().index\n",
    "sb.countplot(data = prosper_clean, y = 'LoanStatus', order = status_order, color = base_color);\n",
    "# to print the percentages of each loan status on the bar\n",
    "n_status = prosper_clean.LoanStatus.value_counts().sum()\n",
    "status_count = prosper_clean.LoanStatus.value_counts()\n",
    "for n in range(status_count.shape[0]):\n",
    "    count = status_count[n]\n",
    "    percentage = '{:0.2f}%'.format(100*count/n_status)\n",
    "    plt.text(count+1, n, percentage, va = 'center')"
   ]
  },
  {
   "cell_type": "markdown",
   "metadata": {},
   "source": [
    "#### Observation\n",
    "It was observed that the loans which are currently active made up about two-thirds of the data. The completed loans made up approximately a quarter of the loans and loans which are past due for over 120 days are not significant in number."
   ]
  },
  {
   "cell_type": "markdown",
   "metadata": {},
   "source": [
    "### Insight 3"
   ]
  },
  {
   "cell_type": "markdown",
   "metadata": {},
   "source": [
    "#### Question: What is the distribution of the Borrower Annual Percentage Rate?"
   ]
  },
  {
   "cell_type": "markdown",
   "metadata": {},
   "source": [
    "#### Visualisation"
   ]
  },
  {
   "cell_type": "code",
   "execution_count": 26,
   "metadata": {},
   "outputs": [
    {
     "data": {
      "text/plain": [
       "count    83397.000000\n",
       "mean         0.228663\n",
       "std          0.079011\n",
       "min          0.045830\n",
       "25%          0.167320\n",
       "50%          0.221400\n",
       "75%          0.293410\n",
       "max          0.423950\n",
       "Name: BorrowerAPR, dtype: float64"
      ]
     },
     "execution_count": 26,
     "metadata": {},
     "output_type": "execute_result"
    }
   ],
   "source": [
    "# get the descriptive statistics of the 'BorrowerAPR' column of the dataset\n",
    "prosper_clean.BorrowerAPR.describe()"
   ]
  },
  {
   "cell_type": "code",
   "execution_count": 27,
   "metadata": {},
   "outputs": [],
   "source": [
    "# convert the values to percentage for easy interpretation\n",
    "prosper_clean.BorrowerAPR = prosper_clean.BorrowerAPR.apply(lambda a: int(a*100))"
   ]
  },
  {
   "cell_type": "code",
   "execution_count": 28,
   "metadata": {},
   "outputs": [
    {
     "data": {
      "text/plain": [
       "68109     14\n",
       "51865     12\n",
       "45533     26\n",
       "100355     8\n",
       "29232     20\n",
       "Name: BorrowerAPR, dtype: int64"
      ]
     },
     "execution_count": 28,
     "metadata": {},
     "output_type": "execute_result"
    }
   ],
   "source": [
    "# confirm that the change has been effected\n",
    "prosper_clean.BorrowerAPR.sample(5)"
   ]
  },
  {
   "cell_type": "code",
   "execution_count": 29,
   "metadata": {},
   "outputs": [
    {
     "data": {
      "text/plain": [
       "count    83397.000000\n",
       "mean        22.358982\n",
       "std          7.880988\n",
       "min          4.000000\n",
       "25%         16.000000\n",
       "50%         22.000000\n",
       "75%         29.000000\n",
       "max         42.000000\n",
       "Name: BorrowerAPR, dtype: float64"
      ]
     },
     "execution_count": 29,
     "metadata": {},
     "output_type": "execute_result"
    }
   ],
   "source": [
    "# get the new descriptive statistics\n",
    "prosper_clean.BorrowerAPR.describe()"
   ]
  },
  {
   "cell_type": "code",
   "execution_count": 30,
   "metadata": {},
   "outputs": [
    {
     "data": {
      "image/png": "[encoded data removed]",
      "text/plain": [
       "<Figure size 360x360 with 1 Axes>"
      ]
     },
     "metadata": {
      "needs_background": "light"
     },
     "output_type": "display_data"
    }
   ],
   "source": [
    "# now plot an histogram to show the distribution of the data.\n",
    "apr_bins = np.arange(4, prosper_clean.BorrowerAPR.max() + 1,1 )\n",
    "sb.displot(prosper_clean.BorrowerAPR, bins = apr_bins, kde = False)\n",
    "plt.xlabel('Borrower Annual Percentage Rate');"
   ]
  },
  {
   "cell_type": "markdown",
   "metadata": {},
   "source": [
    "#### Observation\n",
    "The histogram shows a unimodal variation of the BorrowerAPR data. The borrower annual percentage rates were mostly below thirty five percent and the modal APR is thirty five percent."
   ]
  },
  {
   "cell_type": "markdown",
   "metadata": {},
   "source": [
    "### Insight 4"
   ]
  },
  {
   "cell_type": "markdown",
   "metadata": {},
   "source": [
    "#### Question: What is the distribution of the BorrowerRate in the dataset?\n"
   ]
  },
  {
   "cell_type": "markdown",
   "metadata": {},
   "source": [
    "#### Visualisation"
   ]
  },
  {
   "cell_type": "code",
   "execution_count": 31,
   "metadata": {},
   "outputs": [
    {
     "data": {
      "text/plain": [
       "count    83397.000000\n",
       "mean         0.197815\n",
       "std          0.073931\n",
       "min          0.040000\n",
       "25%          0.139600\n",
       "50%          0.189900\n",
       "75%          0.257900\n",
       "max          0.360000\n",
       "Name: BorrowerRate, dtype: float64"
      ]
     },
     "execution_count": 31,
     "metadata": {},
     "output_type": "execute_result"
    }
   ],
   "source": [
    "# get the descriptive statistics of the 'BorrowerRate' column \n",
    "prosper_clean.BorrowerRate.describe()"
   ]
  },
  {
   "cell_type": "code",
   "execution_count": 32,
   "metadata": {},
   "outputs": [
    {
     "data": {
      "text/plain": [
       "count    83397.000000\n",
       "mean        19.213929\n",
       "std          7.380297\n",
       "min          4.000000\n",
       "25%         13.000000\n",
       "50%         18.000000\n",
       "75%         25.000000\n",
       "max         36.000000\n",
       "Name: BorrowerRate, dtype: float64"
      ]
     },
     "execution_count": 32,
     "metadata": {},
     "output_type": "execute_result"
    }
   ],
   "source": [
    "# change the values of the BorrowerRates to percentage for easy interpretation\n",
    "prosper_clean.BorrowerRate = prosper_clean.BorrowerRate.apply(lambda b: int(b*100))\n",
    "# get the new descriptive statistics\n",
    "prosper_clean.BorrowerRate.describe()"
   ]
  },
  {
   "cell_type": "code",
   "execution_count": 33,
   "metadata": {},
   "outputs": [
    {
     "data": {
      "image/png": "[encoded data removed]",
      "text/plain": [
       "<Figure size 360x360 with 1 Axes>"
      ]
     },
     "metadata": {
      "needs_background": "light"
     },
     "output_type": "display_data"
    }
   ],
   "source": [
    "# plot the histogram showing the distribution of the BorroweRate\n",
    "rate_bins = np.arange(4, 37,1)\n",
    "sb.displot(prosper_clean.BorrowerRate, bins = rate_bins, kde = False);"
   ]
  },
  {
   "cell_type": "markdown",
   "metadata": {},
   "source": [
    "#### Observation\n",
    "The distribution of the BorrowerRate is very similar to the distribution of the BorrowerAPR. However, the modal BorrowerRate is thirty two percent."
   ]
  },
  {
   "cell_type": "markdown",
   "metadata": {},
   "source": [
    "### Insight 5"
   ]
  },
  {
   "cell_type": "markdown",
   "metadata": {},
   "source": [
    "#### Question: What is the distribution of the ProsperScore"
   ]
  },
  {
   "cell_type": "markdown",
   "metadata": {},
   "source": [
    "#### Visualisation"
   ]
  },
  {
   "cell_type": "code",
   "execution_count": 34,
   "metadata": {},
   "outputs": [
    {
     "data": {
      "text/plain": [
       "array([ 7.,  9.,  4., 10.,  2.,  8.,  5.,  3.,  6.,  1.])"
      ]
     },
     "execution_count": 34,
     "metadata": {},
     "output_type": "execute_result"
    }
   ],
   "source": [
    "# to get the unique values of the 'ProsperScore'\n",
    "prosper_clean.ProsperScore.unique()"
   ]
  },
  {
   "cell_type": "code",
   "execution_count": 35,
   "metadata": {},
   "outputs": [
    {
     "data": {
      "image/png": "[encoded data removed]",
      "text/plain": [
       "<Figure size 432x288 with 1 Axes>"
      ]
     },
     "metadata": {
      "needs_background": "light"
     },
     "output_type": "display_data"
    }
   ],
   "source": [
    "# to plot the values on a bar chart\n",
    "sb.countplot(data = prosper_clean, y = 'ProsperScore', color = base_color);"
   ]
  },
  {
   "cell_type": "markdown",
   "metadata": {},
   "source": [
    "#### Observation\n",
    "It was observed that the modal rating is 4.0 and there were very few loans with rating of 1.0. However, most of the rating was from 4 to 10."
   ]
  },
  {
   "cell_type": "markdown",
   "metadata": {},
   "source": [
    "### Insight 6"
   ]
  },
  {
   "cell_type": "markdown",
   "metadata": {},
   "source": [
    "#### Question: What is the distribution of the employment statuses of the those that took the loan?"
   ]
  },
  {
   "cell_type": "markdown",
   "metadata": {},
   "source": [
    "#### Visualisation"
   ]
  },
  {
   "cell_type": "code",
   "execution_count": 36,
   "metadata": {},
   "outputs": [
    {
     "data": {
      "text/plain": [
       "array(['Employed', 'Other', 'Full-time', 'Self-employed', 'Not employed',\n",
       "       'Retired', 'Part-time'], dtype=object)"
      ]
     },
     "execution_count": 36,
     "metadata": {},
     "output_type": "execute_result"
    }
   ],
   "source": [
    "# to find the unique values of the 'EmploymentStatus' column\n",
    "prosper_clean.EmploymentStatus.unique()"
   ]
  },
  {
   "cell_type": "code",
   "execution_count": 37,
   "metadata": {},
   "outputs": [
    {
     "data": {
      "image/png": "[encoded data removed]",
      "text/plain": [
       "<Figure size 432x288 with 1 Axes>"
      ]
     },
     "metadata": {
      "needs_background": "light"
     },
     "output_type": "display_data"
    }
   ],
   "source": [
    "# to plot a bar chart showing the frequency of each employment status in\n",
    "# descending order of magnitude\n",
    "status_order = prosper_clean.EmploymentStatus.value_counts().index\n",
    "sb.countplot(data = prosper_clean, y = 'EmploymentStatus', order = status_order, color = base_color)\n",
    "\n",
    "# to print the percentage of each employment status on its bar\n",
    "n_employment = prosper_clean.EmploymentStatus.value_counts().sum()\n",
    "e_count = prosper_clean.EmploymentStatus.value_counts()\n",
    "for i in range(e_count.shape[0]):\n",
    "    count = e_count[i]\n",
    "    percent = '{:0.2f}%'.format(100*count/n_employment)\n",
    "    plt.text(count + 1, i, percent, va = 'center')\n",
    "\n"
   ]
  },
  {
   "cell_type": "markdown",
   "metadata": {},
   "source": [
    "#### Observation\n",
    "The employment status of about eight percent of the borrowers at the time they posted the listing is 'Employed'. The fewest employment status is 'Part-time'"
   ]
  },
  {
   "cell_type": "markdown",
   "metadata": {},
   "source": [
    "### Insight 7"
   ]
  },
  {
   "cell_type": "markdown",
   "metadata": {},
   "source": [
    "#### Question: What is the distribution of the debt-to-income ratio in the dataset?"
   ]
  },
  {
   "cell_type": "markdown",
   "metadata": {},
   "source": [
    "#### Visualisation"
   ]
  },
  {
   "cell_type": "code",
   "execution_count": 38,
   "metadata": {},
   "outputs": [
    {
     "data": {
      "text/plain": [
       "count    83397.000000\n",
       "mean         0.259735\n",
       "std          0.306640\n",
       "min          0.000000\n",
       "25%          0.160000\n",
       "50%          0.240000\n",
       "75%          0.310000\n",
       "max         10.010000\n",
       "Name: DebtToIncomeRatio, dtype: float64"
      ]
     },
     "execution_count": 38,
     "metadata": {},
     "output_type": "execute_result"
    }
   ],
   "source": [
    "# get the descriptive statistics of the 'DebtToIncomeRatio' column\n",
    "prosper_clean.DebtToIncomeRatio.describe()"
   ]
  },
  {
   "cell_type": "code",
   "execution_count": 39,
   "metadata": {},
   "outputs": [
    {
     "data": {
      "image/png": "[encoded data removed]",
      "text/plain": [
       "<Figure size 432x288 with 1 Axes>"
      ]
     },
     "metadata": {
      "needs_background": "light"
     },
     "output_type": "display_data"
    }
   ],
   "source": [
    "# plot a histogram to depict the distribution of the DebtToIncomeRatio \n",
    "bins = np.arange(0, prosper_clean.DebtToIncomeRatio.max()+ 0.1, 0.1 )\n",
    "plt.hist(data = prosper_clean, x = 'DebtToIncomeRatio', bins = bins)\n",
    "plt.xlim(right = 1.5)\n",
    "plt.xlabel('Debt-to-Income Ratio')\n",
    "plt.ylabel('Count');"
   ]
  },
  {
   "cell_type": "markdown",
   "metadata": {},
   "source": [
    "#### Observation\n",
    "The debt-to-income ratios are densely packed between 0.00 and 0.75. However, the ratio with the highest frequency is 0.25. This implies that most borrowers dedicate twenty five percent of their gross monthly income to service the monthly debt payment. "
   ]
  },
  {
   "cell_type": "markdown",
   "metadata": {},
   "source": [
    "## Insight 8"
   ]
  },
  {
   "cell_type": "markdown",
   "metadata": {},
   "source": [
    "#### Question: What is the distribution of the monthly loan payments of the borrowers in the dataset?"
   ]
  },
  {
   "cell_type": "markdown",
   "metadata": {},
   "source": [
    "#### Visualisation"
   ]
  },
  {
   "cell_type": "code",
   "execution_count": 40,
   "metadata": {},
   "outputs": [
    {
     "data": {
      "text/plain": [
       "count    83397.000000\n",
       "mean       289.624312\n",
       "std        184.789967\n",
       "min          0.000000\n",
       "25%        156.810000\n",
       "50%        249.050000\n",
       "75%        385.740000\n",
       "max       2251.510000\n",
       "Name: MonthlyLoanPayment, dtype: float64"
      ]
     },
     "execution_count": 40,
     "metadata": {},
     "output_type": "execute_result"
    }
   ],
   "source": [
    "# get the descriptive statistics of the MonthlyLoanPayments column\n",
    "prosper_clean.MonthlyLoanPayment.describe()"
   ]
  },
  {
   "cell_type": "code",
   "execution_count": 41,
   "metadata": {},
   "outputs": [
    {
     "data": {
      "image/png": "[encoded data removed]",
      "text/plain": [
       "<Figure size 432x288 with 1 Axes>"
      ]
     },
     "metadata": {
      "needs_background": "light"
     },
     "output_type": "display_data"
    }
   ],
   "source": [
    "# plot the histogram which shows the distribution of the monthly loan payments\n",
    "bins_m = np.arange(0, 2251.51+50, 50)\n",
    "plt.hist(data = prosper_clean, x = 'MonthlyLoanPayment', bins = bins_m)\n",
    "plt.xlim(right = 1500)\n",
    "plt.xlabel('Monthly Loan Payment')\n",
    "plt.ylabel('Count');"
   ]
  },
  {
   "cell_type": "markdown",
   "metadata": {},
   "source": [
    "#### Observation: \n",
    "Most of the monthly loan payments were in the 0 to 800 range. The distribution is skewed to the right and 200 monthly loan payment has the highest frequency."
   ]
  },
  {
   "cell_type": "markdown",
   "metadata": {},
   "source": [
    "### Discuss the distribution(s) of your variable(s) of interest. Were there any unusual points? Did you need to perform any transformations?\n",
    "\n",
    "> In the univariate exploration I did on the columns I discovered that most loanees took out the loans for 3 years and at the time of collection of the data most of the loans were active. The visualisation of the borrower annual percentage rate showed a sharp peak at the 35% mark having over 7000 counts. This was also noticed in the borrower interest rate but now at the 31% mark. 4 was the modal prosper score and 80% of the loanees were employed at the time the data was taken. \n",
    "\n",
    "### Of the features you investigated, were there any unusual distributions? Did you perform any operations on the data to tidy, adjust, or change the form of the data? If so, why did you do this?\n",
    "\n",
    "> The debt to income ration is distributed between 0.25 and 0.75. However, there was an outlier 10.01 and I had to set the limit of the horizontal axis to 1.5. The distribution of the monthly loan payments is largely right skewed and there were outlier values. Hence, I had to set the limit of the horizontal axes to 1500 to get a plot that can be easily interpreted."
   ]
  },
  {
   "cell_type": "markdown",
   "metadata": {},
   "source": [
    "## Bivariate Exploration\n",
    "\n",
    "In this section I want to explore the relationships that exist between different pairs of variables of the dataset that will eventually lead to the answer of the questions of interest in the dataset. The questions is:\n",
    "> What are the factors that most strongly affect the scheduled monthly loan payments?\n"
   ]
  },
  {
   "cell_type": "markdown",
   "metadata": {},
   "source": [
    "\n",
    "### What features in the dataset do you think will help support your investigation into your feature(s) of interest?\n",
    "\n",
    "1. Term\n",
    "2. LoanStatus\n",
    "3. BorrowerAPR\n",
    "4. BorrowerRate\n",
    "6. LenderYield\n",
    "7. ProsperScore\n",
    "8. Occupation\n",
    "9. EmploymentStatus\n",
    "10. EmploymentStatusDuration\n",
    "11. DebtToIncomeRatio\n",
    "12. MonthlyLoanPayment\n",
    "13. Recommedations\n",
    "14. Investors"
   ]
  },
  {
   "cell_type": "markdown",
   "metadata": {},
   "source": [
    "### Insight 1"
   ]
  },
  {
   "cell_type": "markdown",
   "metadata": {},
   "source": [
    "#### Question: What is the relationship between the scheduled monthly loan payments and the employment status?"
   ]
  },
  {
   "cell_type": "markdown",
   "metadata": {},
   "source": [
    "#### Visualisation"
   ]
  },
  {
   "cell_type": "code",
   "execution_count": 42,
   "metadata": {},
   "outputs": [
    {
     "data": {
      "text/plain": [
       "array(['Employed', 'Other', 'Full-time', 'Self-employed', 'Not employed',\n",
       "       'Retired', 'Part-time'], dtype=object)"
      ]
     },
     "execution_count": 42,
     "metadata": {},
     "output_type": "execute_result"
    }
   ],
   "source": [
    "# get the unique values in the 'EmploymentStatus' column\n",
    "prosper_clean.EmploymentStatus.unique()"
   ]
  },
  {
   "cell_type": "code",
   "execution_count": 43,
   "metadata": {},
   "outputs": [
    {
     "data": {
      "text/plain": [
       "Employed         65945\n",
       "Full-time         7913\n",
       "Self-employed     4495\n",
       "Other             3772\n",
       "Not employed       649\n",
       "Retired            367\n",
       "Part-time          256\n",
       "Name: EmploymentStatus, dtype: int64"
      ]
     },
     "execution_count": 43,
     "metadata": {},
     "output_type": "execute_result"
    }
   ],
   "source": [
    "# get the counts of each employment status\n",
    "prosper_clean.EmploymentStatus.value_counts()"
   ]
  },
  {
   "cell_type": "code",
   "execution_count": 44,
   "metadata": {},
   "outputs": [
    {
     "data": {
      "text/plain": [
       "EmploymentStatus\n",
       "Employed         307.962886\n",
       "Self-employed    275.126133\n",
       "Other            231.188282\n",
       "Not employed     200.888737\n",
       "Full-time        191.616277\n",
       "Retired          161.795668\n",
       "Part-time        118.893320\n",
       "Name: MonthlyLoanPayment, dtype: float64"
      ]
     },
     "execution_count": 44,
     "metadata": {},
     "output_type": "execute_result"
    }
   ],
   "source": [
    "# get the employment status in decreasing order or magnitude of the average\n",
    "# monthly loan payment\n",
    "prosper_clean.groupby('EmploymentStatus').MonthlyLoanPayment.mean().sort_values(ascending= False)"
   ]
  },
  {
   "cell_type": "code",
   "execution_count": 45,
   "metadata": {},
   "outputs": [],
   "source": [
    "# set the order of the 'EmploymentStatus' column to the order of decreasing average monthly loan payment\n",
    "employment_order = ['Employed', 'Self-employed', 'Other', 'Not employed', 'Full-time', 'Retired', 'Part-time']\n",
    "order_emp = pd.api.types.CategoricalDtype(ordered = True, categories = employment_order)\n",
    "prosper_clean['EmploymentStatus'] = prosper_clean['EmploymentStatus'].astype(order_emp)"
   ]
  },
  {
   "cell_type": "code",
   "execution_count": 46,
   "metadata": {},
   "outputs": [
    {
     "data": {
      "text/plain": [
       "count    83397.000000\n",
       "mean       289.624312\n",
       "std        184.789967\n",
       "min          0.000000\n",
       "25%        156.810000\n",
       "50%        249.050000\n",
       "75%        385.740000\n",
       "max       2251.510000\n",
       "Name: MonthlyLoanPayment, dtype: float64"
      ]
     },
     "execution_count": 46,
     "metadata": {},
     "output_type": "execute_result"
    }
   ],
   "source": [
    "# get the description of the 'MonthlyLoanPayment' column\n",
    "prosper_clean.MonthlyLoanPayment.describe()\n"
   ]
  },
  {
   "cell_type": "code",
   "execution_count": 47,
   "metadata": {},
   "outputs": [
    {
     "data": {
      "image/png": "[encoded data removed]",
      "text/plain": [
       "<Figure size 432x288 with 1 Axes>"
      ]
     },
     "metadata": {
      "needs_background": "light"
     },
     "output_type": "display_data"
    }
   ],
   "source": [
    "# Adapt a barchart to plot the average scheduled monthly loan payment\n",
    "# against the employment status with color coding to enhance interpretation\n",
    "\n",
    "sb.barplot(data = prosper_clean, x = 'EmploymentStatus', y = 'MonthlyLoanPayment')\n",
    "plt.xticks(rotation = 15)\n",
    "plt.xlabel('Employment Status')\n",
    "plt.ylabel('Average Scheduled Monthly Loan Payment');"
   ]
  },
  {
   "cell_type": "markdown",
   "metadata": {},
   "source": [
    "#### Observation\n",
    "In the visualisation above, it can be observed that the employed borrowers had the highest average scheduled monthly loan payments followed by the self employed class while the borrowers employed part-time had the lowest average scheduled monthly loan payments. The averages for the not employed and full time classes were very close. The retired class had an average that was between the full time and part time averages."
   ]
  },
  {
   "cell_type": "markdown",
   "metadata": {},
   "source": [
    "### Insight 2 "
   ]
  },
  {
   "cell_type": "markdown",
   "metadata": {},
   "source": [
    "#### Question: Does the number of investors who funded the loan affect the monthly loan payment?"
   ]
  },
  {
   "cell_type": "markdown",
   "metadata": {},
   "source": [
    "#### Visualisation"
   ]
  },
  {
   "cell_type": "code",
   "execution_count": 48,
   "metadata": {},
   "outputs": [
    {
     "data": {
      "text/plain": [
       "count    83397.000000\n",
       "mean        67.810161\n",
       "std         94.190355\n",
       "min          1.000000\n",
       "25%          1.000000\n",
       "50%         32.000000\n",
       "75%         96.000000\n",
       "max       1189.000000\n",
       "Name: Investors, dtype: float64"
      ]
     },
     "execution_count": 48,
     "metadata": {},
     "output_type": "execute_result"
    }
   ],
   "source": [
    "# get the descriptive statistics of the 'Investors' column\n",
    "prosper_clean.Investors.describe()"
   ]
  },
  {
   "cell_type": "code",
   "execution_count": 49,
   "metadata": {},
   "outputs": [
    {
     "data": {
      "text/plain": [
       "count    83397.000000\n",
       "mean       289.624312\n",
       "std        184.789967\n",
       "min          0.000000\n",
       "25%        156.810000\n",
       "50%        249.050000\n",
       "75%        385.740000\n",
       "max       2251.510000\n",
       "Name: MonthlyLoanPayment, dtype: float64"
      ]
     },
     "execution_count": 49,
     "metadata": {},
     "output_type": "execute_result"
    }
   ],
   "source": [
    "# get the descriptive statistics of the 'MonthlyLoanPayment' column\n",
    "prosper_clean.MonthlyLoanPayment.describe()"
   ]
  },
  {
   "cell_type": "code",
   "execution_count": 77,
   "metadata": {},
   "outputs": [],
   "source": [
    "# define a function to contain the axes labels and title of the plot\n",
    "def label(a,b,c):\n",
    "    \"\"\"\n",
    "    This function assigns the axes labels and title of the plot where\n",
    "    a: xlabel\n",
    "    b: ylabel\n",
    "    c: title\n",
    "    \"\"\"\n",
    "    plt.xlabel(a)\n",
    "    plt.ylabel(b)\n",
    "    plt.title(c, y = 1.0, fontdict = {'weight': 'bold'})\n",
    "    plt.show()"
   ]
  },
  {
   "cell_type": "code",
   "execution_count": 74,
   "metadata": {},
   "outputs": [
    {
     "data": {
      "image/png": "[encoded data removed]",
      "text/plain": [
       "<Figure size 432x288 with 1 Axes>"
      ]
     },
     "metadata": {
      "needs_background": "light"
     },
     "output_type": "display_data"
    }
   ],
   "source": [
    "# use a scatterplot to depict the relationship between the number of investors\n",
    "# and the scheduled monthly loan payment.\n",
    "sb.regplot(data = prosper_clean, x = 'Investors', y = 'MonthlyLoanPayment', scatter_kws = {'alpha': 1/40})\n",
    "label('Investors', 'Monthly Loan Payment', 'Monthly Loan Payment vs Number of Investors')"
   ]
  },
  {
   "cell_type": "markdown",
   "metadata": {},
   "source": [
    "##### Let's use the heatmap to show exactly how the points are concentrated"
   ]
  },
  {
   "cell_type": "code",
   "execution_count": 78,
   "metadata": {},
   "outputs": [
    {
     "data": {
      "image/png": "[encoded data removed]",
      "text/plain": [
       "<Figure size 432x288 with 2 Axes>"
      ]
     },
     "metadata": {
      "needs_background": "light"
     },
     "output_type": "display_data"
    }
   ],
   "source": [
    "# use a heatmap to show the relationship the scheduled montly loan payments and \n",
    "# the number of investors who invested in the loan.\n",
    "bin_x = np.arange(0, 1189+100, 100)\n",
    "bin_y = np.arange(0, 2251+100, 100)\n",
    "plt.hist2d(data = prosper_clean, x = 'Investors', y = 'MonthlyLoanPayment',\n",
    "          cmin = 0.5, cmap = 'viridis_r', bins = [bin_x, bin_y])\n",
    "plt.colorbar()\n",
    "label('Number of Investors', 'Monthly Loan Payment', 'Scheduled Monthly Loan Payment vs Number of Investors');"
   ]
  },
  {
   "cell_type": "markdown",
   "metadata": {},
   "source": [
    "#### Observation\n",
    "In the scatter plot it was observed that there was a positive correlation between the number of investors and the scheduled monthly loan payment. It was also evident that most of the borrowers had less than 400 investors. In the heatmap it showed that majority of the borrowers who scheduled 500 and less for monthly payments and had less than 100 investors and this portion is the most densely packed in the dataset."
   ]
  },
  {
   "cell_type": "markdown",
   "metadata": {},
   "source": [
    "### Insight 3"
   ]
  },
  {
   "cell_type": "markdown",
   "metadata": {},
   "source": [
    "#### Question: What is the relationship between the borrower annual percentage rate and the scheduled monthly loan payment?\n"
   ]
  },
  {
   "cell_type": "markdown",
   "metadata": {},
   "source": [
    "#### Visualisation"
   ]
  },
  {
   "cell_type": "code",
   "execution_count": 52,
   "metadata": {},
   "outputs": [
    {
     "data": {
      "text/plain": [
       "count    83397.000000\n",
       "mean        22.358982\n",
       "std          7.880988\n",
       "min          4.000000\n",
       "25%         16.000000\n",
       "50%         22.000000\n",
       "75%         29.000000\n",
       "max         42.000000\n",
       "Name: BorrowerAPR, dtype: float64"
      ]
     },
     "execution_count": 52,
     "metadata": {},
     "output_type": "execute_result"
    }
   ],
   "source": [
    "# get the descriptive statistics of the 'BorrowerAPR' \n",
    "prosper_clean.BorrowerAPR.describe()"
   ]
  },
  {
   "cell_type": "code",
   "execution_count": 53,
   "metadata": {},
   "outputs": [
    {
     "data": {
      "image/png": "[encoded data removed]",
      "text/plain": [
       "<Figure size 432x288 with 1 Axes>"
      ]
     },
     "metadata": {
      "needs_background": "light"
     },
     "output_type": "display_data"
    }
   ],
   "source": [
    "# depict the relationship between the scheduled monthly payment and the \n",
    "# borrower annual percentage rate using a scatterplot\n",
    "sb.regplot(data = prosper_clean, x = 'BorrowerAPR', y = 'MonthlyLoanPayment')\n",
    "plt.xlabel('Borrower Annual Percentage Rate')\n",
    "plt.ylabel('Schedule Monthly Loan Payment');"
   ]
  },
  {
   "cell_type": "markdown",
   "metadata": {},
   "source": [
    "##### Let's use the heatmap to show exactly how the points are concentrated"
   ]
  },
  {
   "cell_type": "code",
   "execution_count": 80,
   "metadata": {},
   "outputs": [
    {
     "data": {
      "image/png": "[encoded data removed]",
      "text/plain": [
       "<Figure size 432x288 with 2 Axes>"
      ]
     },
     "metadata": {
      "needs_background": "light"
     },
     "output_type": "display_data"
    }
   ],
   "source": [
    "# to use a heatmap to depict the relationship\n",
    "bins_x = np.arange(0, 2251+100, 100)\n",
    "bins_y = np.arange(4, 42+3, 3)\n",
    "plt.hist2d(data = prosper_clean, x = 'MonthlyLoanPayment', y = 'BorrowerAPR', cmin = 0.5,\n",
    "          cmap= 'viridis_r', bins = [bins_x, bins_y])\n",
    "plt.colorbar()\n",
    "label('Scheduled Monthly Loan Payment','Borrower Annual Percentage Rate', 'Borrower APR vs Scheduled Monthly Loan Payment');\n"
   ]
  },
  {
   "cell_type": "markdown",
   "metadata": {},
   "source": [
    "#### Observation\n",
    "The scatter plot showed a slightly negative correlation between the borrower annual percentage rate and the scheduled monthly loan payment. The heat map showed a concentration of values below the 500 mark for the scheduled monthly loan payment and a peak concentration at the 35 mark for the borrower annual percentage rate."
   ]
  },
  {
   "cell_type": "markdown",
   "metadata": {},
   "source": [
    "### Insight 5"
   ]
  },
  {
   "cell_type": "markdown",
   "metadata": {},
   "source": [
    "#### Question; How does the term of the loan affect the scheduled monthly loan payment?\n"
   ]
  },
  {
   "cell_type": "markdown",
   "metadata": {},
   "source": [
    "#### Visualisation"
   ]
  },
  {
   "cell_type": "code",
   "execution_count": 55,
   "metadata": {},
   "outputs": [
    {
     "data": {
      "text/plain": [
       "count    83397.000000\n",
       "mean        42.482248\n",
       "std         11.654919\n",
       "min         12.000000\n",
       "25%         36.000000\n",
       "50%         36.000000\n",
       "75%         60.000000\n",
       "max         60.000000\n",
       "Name: Term, dtype: float64"
      ]
     },
     "execution_count": 55,
     "metadata": {},
     "output_type": "execute_result"
    }
   ],
   "source": [
    "# get the descriptive statistics of the 'Term' column \n",
    "prosper_clean.Term.describe()"
   ]
  },
  {
   "cell_type": "code",
   "execution_count": 56,
   "metadata": {},
   "outputs": [
    {
     "data": {
      "text/plain": [
       "array([36, 60, 12], dtype=int64)"
      ]
     },
     "execution_count": 56,
     "metadata": {},
     "output_type": "execute_result"
    }
   ],
   "source": [
    "# get the unique values in the 'Term' column\n",
    "prosper_clean.Term.unique()"
   ]
  },
  {
   "cell_type": "code",
   "execution_count": 57,
   "metadata": {},
   "outputs": [
    {
     "data": {
      "image/png": "[encoded data removed]",
      "text/plain": [
       "<Figure size 648x216 with 3 Axes>"
      ]
     },
     "metadata": {
      "needs_background": "light"
     },
     "output_type": "display_data"
    }
   ],
   "source": [
    "# use seaborn.FacetGrid() function to plot the scheduled monthly loan\n",
    "# payments for each of the unique values in the 'Term' column\n",
    "bins_m = np.arange(0, 2251.51+100, 100)\n",
    "h = sb.FacetGrid(data = prosper_clean, col = 'Term')\n",
    "h.map(plt.hist, 'MonthlyLoanPayment', bins = bins_m );"
   ]
  },
  {
   "cell_type": "markdown",
   "metadata": {},
   "source": [
    "#### Observation\n",
    "Most of the data was concentrated in the 36-month term. And there was a peak at about 200 monthly loan payment which had over 20000 counts."
   ]
  },
  {
   "cell_type": "markdown",
   "metadata": {},
   "source": [
    "### Insight 6"
   ]
  },
  {
   "cell_type": "markdown",
   "metadata": {},
   "source": [
    "#### Question: What is the relationship between the debt-to-income ratio and the scheduled monthly loan payment?"
   ]
  },
  {
   "cell_type": "markdown",
   "metadata": {},
   "source": [
    "#### Visualisation"
   ]
  },
  {
   "cell_type": "code",
   "execution_count": 58,
   "metadata": {},
   "outputs": [
    {
     "name": "stdout",
     "output_type": "stream",
     "text": [
      "count    83397.000000\n",
      "mean         0.259735\n",
      "std          0.306640\n",
      "min          0.000000\n",
      "25%          0.160000\n",
      "50%          0.240000\n",
      "75%          0.310000\n",
      "max         10.010000\n",
      "Name: DebtToIncomeRatio, dtype: float64\n",
      "260\n"
     ]
    }
   ],
   "source": [
    "# get the descriptive statistics and the number of unique values for the \n",
    "# DebtToIncomeRatio column\n",
    "print(prosper_clean.DebtToIncomeRatio.describe())\n",
    "print(prosper_clean.DebtToIncomeRatio.nunique())"
   ]
  },
  {
   "cell_type": "code",
   "execution_count": 81,
   "metadata": {},
   "outputs": [
    {
     "data": {
      "image/png": "[encoded data removed]",
      "text/plain": [
       "<Figure size 432x288 with 1 Axes>"
      ]
     },
     "metadata": {
      "needs_background": "light"
     },
     "output_type": "display_data"
    }
   ],
   "source": [
    "# use a scatter plot to depict the relationship between the debt-to-income ratio\n",
    "# and the scheduled monthly loan payment\n",
    "sb.regplot(data = prosper_clean, x = 'DebtToIncomeRatio', y = 'MonthlyLoanPayment',\n",
    "          scatter_kws = {'alpha': 1/10})\n",
    "label('Debt-to-Income Ratio','Scheduled Monthly Loan Payment','Scheduled Monthly Loan Payment vs Debt-to-Income Ratio');"
   ]
  },
  {
   "cell_type": "markdown",
   "metadata": {},
   "source": [
    "#### Observation\n",
    "In the plot above we can observe that most of the debt-to-income ratio fell below 2. There were outliers at ratio of 10. The the regression line is flat. Hence this indicates that the scheduled monthly loan payment was highest for loanees with very low debt-to-income ratio. However, the scheduled monthly loan payment is not strongly affected by the debt-to-income ratio when the ratio is high. "
   ]
  },
  {
   "cell_type": "markdown",
   "metadata": {},
   "source": [
    "### Talk about some of the relationships you observed in this part of the investigation. How did the feature(s) of interest vary with other features in the dataset?\n",
    "\n",
    "1. In the plot of the average monthly loan payment and employment status it was observed that the employed category had were able to pay more monthly. Hence employment status is one of the major factors that affect the monthly loan payments in the data.\n",
    "2. In the plot of the number of investors and the scheduled monthly loan payment it was discovered that most the loanees had less than 200 investors and paid less than 500 monthly. However, those with more investors had relatively higher scheduled monthly loan payments.\n",
    "3. Loanees had higher scheduled monthly loan payments when they are on a 36-month loan term. This may be associated with the fact that bigger sums were awarded for this period of time, smaller sums were borrowed over one year, or bigger sums were largely spread over 60 months. Hence, the term of a loan is also a major factor which affects the scheduled monthly loan payment.\n",
    "\n",
    "### Did you observe any interesting relationships between the other features (not the main feature(s) of interest)?\n",
    "\n",
    "> I observed that the borrower annual percentage rate had a negative correlation with the scheduled monthly loan payment."
   ]
  },
  {
   "cell_type": "markdown",
   "metadata": {},
   "source": [
    "## Multivariate Exploration\n"
   ]
  },
  {
   "cell_type": "markdown",
   "metadata": {},
   "source": [
    "### Insight 1\n"
   ]
  },
  {
   "cell_type": "markdown",
   "metadata": {},
   "source": [
    "#### Question\n",
    "How does the term of the loan affect the distribution of the scheduled monthly income and the number of investors."
   ]
  },
  {
   "cell_type": "markdown",
   "metadata": {},
   "source": [
    "#### Visualisation"
   ]
  },
  {
   "cell_type": "code",
   "execution_count": 60,
   "metadata": {},
   "outputs": [
    {
     "data": {
      "text/plain": [
       "(83397, 42)"
      ]
     },
     "execution_count": 60,
     "metadata": {},
     "output_type": "execute_result"
    }
   ],
   "source": [
    "prosper_clean.shape"
   ]
  },
  {
   "cell_type": "code",
   "execution_count": 61,
   "metadata": {},
   "outputs": [
    {
     "data": {
      "text/html": [
       "<div>\n",
       "<style scoped>\n",
       "    .dataframe tbody tr th:only-of-type {\n",
       "        vertical-align: middle;\n",
       "    }\n",
       "\n",
       "    .dataframe tbody tr th {\n",
       "        vertical-align: top;\n",
       "    }\n",
       "\n",
       "    .dataframe thead th {\n",
       "        text-align: right;\n",
       "    }\n",
       "</style>\n",
       "<table border=\"1\" class=\"dataframe\">\n",
       "  <thead>\n",
       "    <tr style=\"text-align: right;\">\n",
       "      <th></th>\n",
       "      <th>ListingKey</th>\n",
       "      <th>ListingNumber</th>\n",
       "      <th>ListingCreationDate</th>\n",
       "      <th>Term</th>\n",
       "      <th>LoanStatus</th>\n",
       "      <th>BorrowerAPR</th>\n",
       "      <th>BorrowerRate</th>\n",
       "      <th>LenderYield</th>\n",
       "      <th>EstimatedEffectiveYield</th>\n",
       "      <th>EstimatedLoss</th>\n",
       "      <th>...</th>\n",
       "      <th>LoanNumber</th>\n",
       "      <th>LoanOriginalAmount</th>\n",
       "      <th>LoanOriginationDate</th>\n",
       "      <th>LoanOriginationQuarter</th>\n",
       "      <th>MonthlyLoanPayment</th>\n",
       "      <th>PercentFunded</th>\n",
       "      <th>Recommendations</th>\n",
       "      <th>InvestmentFromFriendsCount</th>\n",
       "      <th>InvestmentFromFriendsAmount</th>\n",
       "      <th>Investors</th>\n",
       "    </tr>\n",
       "  </thead>\n",
       "  <tbody>\n",
       "    <tr>\n",
       "      <th>19906</th>\n",
       "      <td>1D9135979098875404E369C</td>\n",
       "      <td>1070948</td>\n",
       "      <td>2013-12-13 10:45:30.893000000</td>\n",
       "      <td>36</td>\n",
       "      <td>Current</td>\n",
       "      <td>18</td>\n",
       "      <td>15</td>\n",
       "      <td>0.1435</td>\n",
       "      <td>0.13507</td>\n",
       "      <td>0.0599</td>\n",
       "      <td>...</td>\n",
       "      <td>121889</td>\n",
       "      <td>20000</td>\n",
       "      <td>2013-12-17 00:00:00</td>\n",
       "      <td>Q4 2013</td>\n",
       "      <td>696.74</td>\n",
       "      <td>1.0</td>\n",
       "      <td>0</td>\n",
       "      <td>0</td>\n",
       "      <td>0.0</td>\n",
       "      <td>1</td>\n",
       "    </tr>\n",
       "  </tbody>\n",
       "</table>\n",
       "<p>1 rows × 42 columns</p>\n",
       "</div>"
      ],
      "text/plain": [
       "                    ListingKey  ListingNumber            ListingCreationDate  \\\n",
       "19906  1D9135979098875404E369C        1070948  2013-12-13 10:45:30.893000000   \n",
       "\n",
       "       Term LoanStatus  BorrowerAPR  BorrowerRate  LenderYield  \\\n",
       "19906    36    Current           18            15       0.1435   \n",
       "\n",
       "       EstimatedEffectiveYield  EstimatedLoss  ...  LoanNumber  \\\n",
       "19906                  0.13507         0.0599  ...      121889   \n",
       "\n",
       "       LoanOriginalAmount  LoanOriginationDate  LoanOriginationQuarter  \\\n",
       "19906               20000  2013-12-17 00:00:00                 Q4 2013   \n",
       "\n",
       "       MonthlyLoanPayment PercentFunded Recommendations  \\\n",
       "19906              696.74           1.0               0   \n",
       "\n",
       "      InvestmentFromFriendsCount  InvestmentFromFriendsAmount  Investors  \n",
       "19906                          0                          0.0          1  \n",
       "\n",
       "[1 rows x 42 columns]"
      ]
     },
     "execution_count": 61,
     "metadata": {},
     "output_type": "execute_result"
    }
   ],
   "source": [
    "# first generate a random 500 samples to avoid overplotting.\n",
    "np.random.seed(1000)\n",
    "sample = np.random.choice(prosper_clean.index, 500, replace = False)\n",
    "prosper_subset = prosper_clean.loc[sample]\n",
    "prosper_subset.sample()"
   ]
  },
  {
   "cell_type": "code",
   "execution_count": 82,
   "metadata": {},
   "outputs": [
    {
     "data": {
      "image/png": "[encoded data removed]",
      "text/plain": [
       "<Figure size 432x288 with 1 Axes>"
      ]
     },
     "metadata": {
      "needs_background": "light"
     },
     "output_type": "display_data"
    }
   ],
   "source": [
    "# Now plot a scatterplot that depicts the scheduled monthly loan payments and \n",
    "# number of investors\n",
    "sb.regplot(data = prosper_subset, x = 'Investors', y = 'MonthlyLoanPayment', scatter_kws = {'alpha': 1/3},\n",
    "          fit_reg = False)\n",
    "label('Number of Investors', 'Monthly Loan Payment', 'Scheduled Monthly Loan Payment vs Number of Investors');"
   ]
  },
  {
   "cell_type": "code",
   "execution_count": 63,
   "metadata": {},
   "outputs": [
    {
     "data": {
      "text/plain": [
       "dtype('int64')"
      ]
     },
     "execution_count": 63,
     "metadata": {},
     "output_type": "execute_result"
    }
   ],
   "source": [
    "prosper_subset.Term.dtype"
   ]
  },
  {
   "cell_type": "code",
   "execution_count": 84,
   "metadata": {},
   "outputs": [
    {
     "data": {
      "image/png": "[encoded data removed]",
      "text/plain": [
       "<Figure size 432x288 with 1 Axes>"
      ]
     },
     "metadata": {
      "needs_background": "light"
     },
     "output_type": "display_data"
    },
    {
     "data": {
      "text/plain": [
       "''"
      ]
     },
     "execution_count": 84,
     "metadata": {},
     "output_type": "execute_result"
    }
   ],
   "source": [
    "# now to plot the third variable which the the 'Term' column\n",
    "# write a loop that assigns each term to a shape to be plotted on the scatter plot\n",
    "term_marker = [[12, 'o'], [36, '^'], [60, 'd']]\n",
    "for term, marker in term_marker:\n",
    "    plot_data = prosper_subset.loc[prosper_subset.Term == term]\n",
    "    sb.regplot(data = plot_data, x = 'Investors', y = 'MonthlyLoanPayment',\n",
    "          fit_reg = False, x_jitter = 0.05, marker = marker)\n",
    "plt.legend(['12 months', '36 months', '60 months'])\n",
    "label('Number of Investors', 'Monthly Loan Payment', 'Scheduled Monthly Loan Payment vs Number of Investors');\n",
    ";\n"
   ]
  },
  {
   "cell_type": "markdown",
   "metadata": {},
   "source": [
    "#### Observation\n",
    "In the plot above most of the loanees who took out loans for five years have less than a hundred investors and they paid relatively less scheduled monthly loan payment. The loanees who took the loan for 3 years however, had the highest scheduled monthly loan payment and also the highest number of investors.\n",
    "\n"
   ]
  },
  {
   "cell_type": "markdown",
   "metadata": {},
   "source": [
    "### Insight 2"
   ]
  },
  {
   "cell_type": "markdown",
   "metadata": {},
   "source": [
    "#### Question\n",
    "How does the debt-to-income ratio affect the distribution of the scheduled monthly loan payment and the number of investors?"
   ]
  },
  {
   "cell_type": "markdown",
   "metadata": {},
   "source": [
    "#### Visualisation"
   ]
  },
  {
   "cell_type": "code",
   "execution_count": 85,
   "metadata": {},
   "outputs": [
    {
     "data": {
      "image/png": "[encoded data removed]",
      "text/plain": [
       "<Figure size 432x288 with 2 Axes>"
      ]
     },
     "metadata": {
      "needs_background": "light"
     },
     "output_type": "display_data"
    },
    {
     "data": {
      "text/plain": [
       "''"
      ]
     },
     "execution_count": 85,
     "metadata": {},
     "output_type": "execute_result"
    }
   ],
   "source": [
    "# Use plt.scatter() to plot these variables since they are all quanititatve variables and use \n",
    "# sequential color encoding to depict the debt-to-income ratio.\n",
    "plt.scatter(data = prosper_subset, x = 'Investors', y = 'MonthlyLoanPayment',\n",
    "            c = 'DebtToIncomeRatio', cmap = 'viridis_r')\n",
    "plt.colorbar(label = 'Debt-to-income Ratio')\n",
    "label('Number of Investors', 'Monthly Loan Payment', 'Scheduled Monthly Loan Payment vs Number of Investors');\n",
    ";"
   ]
  },
  {
   "cell_type": "markdown",
   "metadata": {},
   "source": [
    "#### Observation\n",
    "It can be observed from the plot above that most of the loanees that had 0 investors had debt-to-income ratio of 0.5 or less and the loanees that had the highest investors number of and scheduled monthly loan payment had a debt-to-income ratio of 0.5. "
   ]
  },
  {
   "cell_type": "markdown",
   "metadata": {},
   "source": [
    "### Insight 3"
   ]
  },
  {
   "cell_type": "markdown",
   "metadata": {},
   "source": [
    "#### Question\n",
    "How does the term affect the distribution of the average scheduled monthly loan payment and the employment status?"
   ]
  },
  {
   "cell_type": "markdown",
   "metadata": {},
   "source": [
    "#### Visualisation"
   ]
  },
  {
   "cell_type": "code",
   "execution_count": 66,
   "metadata": {},
   "outputs": [
    {
     "data": {
      "text/plain": [
       "['Employed', 'Other', 'Full-time', 'Self-employed', 'Not employed', 'Retired', 'Part-time']\n",
       "Categories (7, object): ['Employed' < 'Self-employed' < 'Other' < 'Not employed' < 'Full-time' < 'Retired' < 'Part-time']"
      ]
     },
     "execution_count": 66,
     "metadata": {},
     "output_type": "execute_result"
    }
   ],
   "source": [
    "prosper_clean.EmploymentStatus.unique()"
   ]
  },
  {
   "cell_type": "code",
   "execution_count": 67,
   "metadata": {},
   "outputs": [
    {
     "name": "stderr",
     "output_type": "stream",
     "text": [
      "C:\\Users\\Owner\\anaconda3\\lib\\site-packages\\seaborn\\axisgrid.py:670: UserWarning: Using the barplot function without specifying `order` is likely to produce an incorrect plot.\n",
      "  warnings.warn(warning)\n"
     ]
    },
    {
     "data": {
      "image/png": "[encoded data removed]",
      "text/plain": [
       "<Figure size 864x288 with 3 Axes>"
      ]
     },
     "metadata": {
      "needs_background": "light"
     },
     "output_type": "display_data"
    }
   ],
   "source": [
    "# use seaborn's FacetGrid() function to plot the distribution of the average scheduled monthly loan payment\n",
    "# and the employment status over the three terms\n",
    "\n",
    "s = sb.FacetGrid(data = prosper_clean, col = 'Term', height = 4)\n",
    "s.map(sb.barplot, 'EmploymentStatus', 'MonthlyLoanPayment')\n",
    "s.set_xticklabels(rotation = 20);\n"
   ]
  },
  {
   "cell_type": "markdown",
   "metadata": {},
   "source": [
    "#### Observation\n",
    "The plots above show that the loanees who took loans for 36 months and work part time have the lowest average scheduled monthly loan payment and the Self-employed loanees who took the loan for 12 months have the highest average scheduled monthly loan payment."
   ]
  },
  {
   "cell_type": "markdown",
   "metadata": {},
   "source": [
    "### Talk about some of the relationships you observed in this part of the investigation. Were there features that strengthened each other in terms of looking at your feature(s) of interest?\n",
    "\n",
    "> I observed that loanees with high scheduled monthly payments have a low debt-to-income ratio, either self-employed or employed, took the loan for thirty six months and had a lot of investors.\n",
    "\n",
    "### Were there any interesting or surprising interactions between features?\n",
    "\n",
    "> I found that the average scheduled monthly income for loanees who took the loan for 36 months was lower and this is quite interesting because the best perfomers in terms of scheduled monthly loan payements are those in this category. Also, it may be as a result of the high number of loanees in this region."
   ]
  },
  {
   "cell_type": "markdown",
   "metadata": {},
   "source": [
    "## Conclusions\n",
    "> In conclusion, about eighty four thousand observations were analysed in this part with a focus on twelve variables to determine the major factors that affected the scheduled monthly loan payment for each loanee. In this part, we discovered that the major variables that most strongly affect the scheduled monthly loan payment are the number of investors,term of the loan(in months), employment status and the debt-to-income ratio."
   ]
  },
  {
   "cell_type": "code",
   "execution_count": null,
   "metadata": {},
   "outputs": [],
   "source": []
  }
 ],
 "metadata": {
  "kernelspec": {
   "display_name": "Python 3 (ipykernel)",
   "language": "python",
   "name": "python3"
  },
  "language_info": {
   "codemirror_mode": {
    "name": "ipython",
    "version": 3
   },
   "file_extension": ".py",
   "mimetype": "text/x-python",
   "name": "python",
   "nbconvert_exporter": "python",
   "pygments_lexer": "ipython3",
   "version": "3.9.7"
  }
 },
 "nbformat": 4,
 "nbformat_minor": 2
}
